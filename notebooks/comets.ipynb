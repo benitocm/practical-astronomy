{
 "cells": [
  {
   "cell_type": "code",
   "execution_count": 6,
   "metadata": {
    "ExecuteTime": {
     "end_time": "2020-05-03T11:42:53.490194Z",
     "start_time": "2020-05-03T11:42:53.427412Z"
    }
   },
   "outputs": [
    {
     "name": "stdout",
     "output_type": "stream",
     "text": [
      "The autoreload extension is already loaded. To reload it, use:\n",
      "  %reload_ext autoreload\n"
     ]
    }
   ],
   "source": [
    "%matplotlib notebook\n",
    "import sys\n",
    "from pathlib import Path\n",
    "\n",
    "SRC_ROOT_DIR_0 = '/g/wsl_projs/practical-astronomy'\n",
    "SRC_ROOT_DIR_1 = '/g/wsl_projs/practical-astronomy/myastro/'\n",
    "sys.path.insert(0, SRC_ROOT_DIR_0)\n",
    "sys.path.insert(1, SRC_ROOT_DIR_1)\n",
    "\n",
    "%load_ext autoreload\n",
    "%autoreload 2"
   ]
  },
  {
   "cell_type": "code",
   "execution_count": 7,
   "metadata": {
    "ExecuteTime": {
     "end_time": "2020-05-03T11:42:54.103132Z",
     "start_time": "2020-05-03T11:42:54.056390Z"
    }
   },
   "outputs": [],
   "source": [
    "import myastro.timeconv as tc\n",
    "import myastro.coord as co\n",
    "import myastro.orbit as ob\n",
    "from myastro.orbit import OrbObject\n",
    "from timeconv import  sin_dgms, cos_dgms, tan_dgms\n",
    "import numpy as np\n",
    "from toolz import pipe, compose\n",
    "import toolz as tz\n",
    "from functools import partial\n",
    "from itertools import starmap\n",
    "import myastro.util as ut\n",
    "from operator import itemgetter\n",
    "\n",
    "import matplotlib.pyplot as plt\n",
    "from matplotlib import pyplot\n",
    "import matplotlib.animation as animation\n",
    "from matplotlib.animation import FuncAnimation\n",
    "from matplotlib.patches import Ellipse\n",
    "\n"
   ]
  },
  {
   "cell_type": "code",
   "execution_count": 1,
   "metadata": {
    "ExecuteTime": {
     "end_time": "2020-05-02T17:55:35.678721Z",
     "start_time": "2020-05-02T17:55:35.667979Z"
    }
   },
   "outputs": [],
   "source": [
    "#commets\n",
    "# Ellipse (e=0.5)  Parabola (e=1.0)  Hyperbola (e=1.5)"
   ]
  },
  {
   "cell_type": "code",
   "execution_count": null,
   "metadata": {},
   "outputs": [],
   "source": [
    "#Position in the orbit\n",
    "#Although the equation for the conic section gives every possible poisition at which a comet may be found during ti\n",
    "# its orbit, it does not establish at what time this will occur.\n",
    "# To solve this proble, we will use the law of equal areas.\n",
    "# The total area S of the ellipse is\n",
    "# S = pi*a^2*sqrt(1-e^2)\n",
    "# dx_dt = -np.sqrt(GM/a)*np.sin(e_anomaly/(1-e*cos(e_anomaly)))\n",
    "# dy_dt = ...\n",
    "# x = \n",
    "\n"
   ]
  },
  {
   "cell_type": "code",
   "execution_count": 15,
   "metadata": {
    "ExecuteTime": {
     "end_time": "2020-05-03T12:10:01.672189Z",
     "start_time": "2020-05-03T12:10:01.611629Z"
    }
   },
   "outputs": [],
   "source": [
    "obliq = np.deg2rad(23.5)\n",
    "r_eclip = np.array([1,2,3])\n",
    "\n",
    "\n"
   ]
  },
  {
   "cell_type": "code",
   "execution_count": 18,
   "metadata": {
    "ExecuteTime": {
     "end_time": "2020-05-03T12:11:51.835822Z",
     "start_time": "2020-05-03T12:11:51.776599Z"
    }
   },
   "outputs": [
    {
     "data": {
      "text/plain": [
       "array([1.        , 0.63787294, 3.54867836])"
      ]
     },
     "execution_count": 18,
     "metadata": {},
     "output_type": "execute_result"
    }
   ],
   "source": [
    "r_equat = ob.Rx_3d(-obliq).dot(r_eclip)\n",
    "r_equat"
   ]
  },
  {
   "cell_type": "code",
   "execution_count": 54,
   "metadata": {
    "ExecuteTime": {
     "end_time": "2020-05-03T13:00:55.535845Z",
     "start_time": "2020-05-03T13:00:55.487193Z"
    }
   },
   "outputs": [],
   "source": [
    "def rect2polar(x,y,z):\n",
    "    r = np.sqrt(x*x+y*y+z*z)\n",
    "    phi =  np.arctan2(y,x)\n",
    "    theta = np.arctan2(z,np.sqrt(x*x+y*y))\n",
    "    return r, phi, theta\n",
    "\n",
    "def rec2polar_v(vect):\n",
    "    return np.array(rec2polar(*vect))\n",
    "\n",
    "def polar2rect(r,phi,theta) :\n",
    "    r_cos_theta = r*np.cos(theta)\n",
    "    return r_cos_theta*np.cos(phi), r_cos_theta*np.sin(phi), r*np.sin(theta)\n",
    "\n",
    "def polar2rect_v(vect):\n",
    "    return np.array(polar2rect(*vect))\n",
    "   "
   ]
  },
  {
   "cell_type": "code",
   "execution_count": 53,
   "metadata": {
    "ExecuteTime": {
     "end_time": "2020-05-03T12:58:37.756604Z",
     "start_time": "2020-05-03T12:58:37.708337Z"
    }
   },
   "outputs": [],
   "source": [
    "def rect2polar2(r_v):\n",
    "    return np.array(rect2polar(*r_v))\n"
   ]
  },
  {
   "cell_type": "code",
   "execution_count": 51,
   "metadata": {
    "ExecuteTime": {
     "end_time": "2020-05-03T12:53:28.579965Z",
     "start_time": "2020-05-03T12:53:28.509789Z"
    }
   },
   "outputs": [
    {
     "data": {
      "text/plain": [
       "(3.7416573867739413, 1.1071487177940904, 0.9302740141154721)"
      ]
     },
     "execution_count": 51,
     "metadata": {},
     "output_type": "execute_result"
    }
   ],
   "source": [
    "compose(rect2polar2,np.array)((1,2,3))"
   ]
  },
  {
   "cell_type": "code",
   "execution_count": 52,
   "metadata": {
    "ExecuteTime": {
     "end_time": "2020-05-03T12:54:30.209482Z",
     "start_time": "2020-05-03T12:54:30.118736Z"
    }
   },
   "outputs": [
    {
     "ename": "TypeError",
     "evalue": "compose() argument after * must be an iterable, not type",
     "output_type": "error",
     "traceback": [
      "\u001b[0;31m---------------------------------------------------------------------------\u001b[0m",
      "\u001b[0;31mTypeError\u001b[0m                                 Traceback (most recent call last)",
      "\u001b[0;32m<ipython-input-52-50c3e5b02452>\u001b[0m in \u001b[0;36m<module>\u001b[0;34m\u001b[0m\n\u001b[0;32m----> 1\u001b[0;31m \u001b[0mcompose\u001b[0m\u001b[0;34m(\u001b[0m\u001b[0mrect2polar\u001b[0m\u001b[0;34m,\u001b[0m\u001b[0;34m*\u001b[0m\u001b[0mtuple\u001b[0m\u001b[0;34m)\u001b[0m\u001b[0;34m(\u001b[0m\u001b[0mrv\u001b[0m\u001b[0;34m)\u001b[0m\u001b[0;34m\u001b[0m\u001b[0;34m\u001b[0m\u001b[0m\n\u001b[0m",
      "\u001b[0;31mTypeError\u001b[0m: compose() argument after * must be an iterable, not type"
     ]
    }
   ],
   "source": [
    "compose(rect2polar,*tuple)(rv)"
   ]
  },
  {
   "cell_type": "code",
   "execution_count": null,
   "metadata": {},
   "outputs": [],
   "source": []
  },
  {
   "cell_type": "code",
   "execution_count": null,
   "metadata": {},
   "outputs": [],
   "source": []
  },
  {
   "cell_type": "code",
   "execution_count": null,
   "metadata": {},
   "outputs": [],
   "source": [
    "def function1(function):\n",
    "      def wrapper(*args, **kwargs):\n",
    "            tuple = args[0]\n",
    "            result = function(*args, **kwargs)\n",
    "            return np.array(result)\n",
    "            print(\"welcome to edureka\")\n",
    "      return wrapper\n",
    "\n",
    "@function1\n",
    "def function2(name):\n",
    "      print(f\"{name}\")\n",
    " \n",
    "function2(\"pythonista\")"
   ]
  },
  {
   "cell_type": "code",
   "execution_count": 43,
   "metadata": {
    "ExecuteTime": {
     "end_time": "2020-05-03T12:45:40.866096Z",
     "start_time": "2020-05-03T12:45:40.818570Z"
    }
   },
   "outputs": [
    {
     "data": {
      "text/plain": [
       "array([1, 2])"
      ]
     },
     "execution_count": 43,
     "metadata": {},
     "output_type": "execute_result"
    }
   ],
   "source": [
    "np.array((1,2))"
   ]
  },
  {
   "cell_type": "code",
   "execution_count": null,
   "metadata": {},
   "outputs": [],
   "source": []
  }
 ],
 "metadata": {
  "kernelspec": {
   "display_name": "py37astro",
   "language": "python",
   "name": "py37astro"
  },
  "language_info": {
   "codemirror_mode": {
    "name": "ipython",
    "version": 3
   },
   "file_extension": ".py",
   "mimetype": "text/x-python",
   "name": "python",
   "nbconvert_exporter": "python",
   "pygments_lexer": "ipython3",
   "version": "3.7.7"
  }
 },
 "nbformat": 4,
 "nbformat_minor": 4
}
