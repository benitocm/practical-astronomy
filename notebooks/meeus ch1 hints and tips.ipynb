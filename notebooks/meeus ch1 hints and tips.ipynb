{
 "cells": [
  {
   "cell_type": "code",
   "execution_count": 2,
   "metadata": {
    "ExecuteTime": {
     "end_time": "2020-04-13T16:59:45.815115Z",
     "start_time": "2020-04-13T16:59:42.803591Z"
    }
   },
   "outputs": [],
   "source": [
    "import numpy as np\n",
    "from toolz import pipe, compose\n",
    "from math import isclose"
   ]
  },
  {
   "cell_type": "code",
   "execution_count": 3,
   "metadata": {
    "ExecuteTime": {
     "end_time": "2020-04-13T16:59:46.695057Z",
     "start_time": "2020-04-13T16:59:46.684726Z"
    }
   },
   "outputs": [],
   "source": [
    "#NumPy provides the ufuncs sin(), cos() and tan() that take values in radians a\n",
    "#nd produce the corresponding sin, cos and tan values."
   ]
  },
  {
   "cell_type": "markdown",
   "metadata": {},
   "source": [
    "### Trigonometric functions of large angles"
   ]
  },
  {
   "cell_type": "code",
   "execution_count": 4,
   "metadata": {
    "ExecuteTime": {
     "end_time": "2020-04-13T16:59:47.769364Z",
     "start_time": "2020-04-13T16:59:47.695452Z"
    }
   },
   "outputs": [
    {
     "name": "stdout",
     "output_type": "stream",
     "text": [
      "0.49999999995724154\n"
     ]
    },
    {
     "data": {
      "text/plain": [
       "True"
      ]
     },
     "execution_count": 4,
     "metadata": {},
     "output_type": "execute_result"
    }
   ],
   "source": [
    "# In numpy, trigonometric functions works in radians\n",
    "# The example in the books is given in degres so we need to transform to radians. The result shoulbe 0.5 or very close\n",
    "v = np.sin(np.deg2rad(36000030))\n",
    "print (v)\n",
    "np.isclose(0.5,v)"
   ]
  },
  {
   "cell_type": "markdown",
   "metadata": {},
   "source": [
    "### Angle modes"
   ]
  },
  {
   "cell_type": "code",
   "execution_count": 5,
   "metadata": {
    "ExecuteTime": {
     "end_time": "2020-04-13T16:59:48.182940Z",
     "start_time": "2020-04-13T16:59:48.160245Z"
    }
   },
   "outputs": [
    {
     "name": "stdout",
     "output_type": "stream",
     "text": [
      "-0.8386705679454239\n",
      "-0.8386705679454239\n"
     ]
    }
   ],
   "source": [
    "# When anges are expressed in degrees, minutes and second, they have to be tranformed to degrees and decimals. \n",
    "# Also the sign has to be to take into account (it applies to global number)\n",
    "def ddmmss2deg(dg,arm=0,ars=0,sign=\"+\"):\n",
    "    value = abs(dg) + arm/60 + ars/3600\n",
    "    return value if sign==\"+\" else -value \n",
    "\n",
    "# In python we can compose those functions so they can be easier to use\n",
    "print (np.cos(np.deg2rad(ddmmss2deg(147,0,0))))\n",
    "print (pipe(ddmmss2deg(147,0,0),np.deg2rad,np.cos))"
   ]
  },
  {
   "cell_type": "markdown",
   "metadata": {},
   "source": [
    "### Right Ascensions"
   ]
  },
  {
   "cell_type": "code",
   "execution_count": 6,
   "metadata": {
    "ExecuteTime": {
     "end_time": "2020-04-13T16:59:48.733982Z",
     "start_time": "2020-04-13T16:59:48.725056Z"
    }
   },
   "outputs": [],
   "source": [
    "# Right ascencions are generally expressed in hours, minutes and seconds of time. Remember that one hour corrspond to 15 degrees\n",
    "# i.e. 360 degress / 24 hours --> 15 degrees/hour\n",
    "def hhmmss2deg(hh,mm,ss):\n",
    "    return ddmmss2deg(hh,mm,ss) * 15\n"
   ]
  },
  {
   "cell_type": "code",
   "execution_count": 7,
   "metadata": {
    "ExecuteTime": {
     "end_time": "2020-04-13T16:59:49.032019Z",
     "start_time": "2020-04-13T16:59:49.002216Z"
    }
   },
   "outputs": [
    {
     "name": "stdout",
     "output_type": "stream",
     "text": [
      "-0.8775169448762484\n"
     ]
    },
    {
     "data": {
      "text/plain": [
       "True"
      ]
     },
     "execution_count": 7,
     "metadata": {},
     "output_type": "execute_result"
    }
   ],
   "source": [
    "# In python we can compose those functions so they can be easier to use\n",
    "\n",
    "sin_dms = compose(np.sin,np.deg2rad,ddmmss2deg)\n",
    "cos_dms = compose(np.cos,np.deg2rad,ddmmss2deg)\n",
    "tan_dms = compose(np.tan,np.deg2rad,ddmmss2deg)\n",
    "\n",
    "sin_hms = compose(np.sin,np.deg2rad,hhmmss2deg)\n",
    "cos_hms = compose(np.cos,np.deg2rad,hhmmss2deg)\n",
    "tan_hms = compose(np.tan,np.deg2rad,hhmmss2deg)\n",
    "\n",
    "\n",
    "# Calculate the tangent of alpha= 9h 14m 55.8, the value should be -0.877517\n",
    "v = tan_hms(9,14,55.8)\n",
    "print (v)\n",
    "np.isclose(v,-0.877516)\n"
   ]
  },
  {
   "cell_type": "markdown",
   "metadata": {},
   "source": [
    "### The correct quadrant"
   ]
  },
  {
   "cell_type": "code",
   "execution_count": 8,
   "metadata": {
    "ExecuteTime": {
     "end_time": "2020-04-13T16:59:50.002942Z",
     "start_time": "2020-04-13T16:59:49.994708Z"
    }
   },
   "outputs": [],
   "source": [
    "cos_dms(147)\n",
    "#cos_dms(213)\n",
    "arccos_as_dmg = compose(np.rad2deg,np.arccos)\n"
   ]
  },
  {
   "cell_type": "code",
   "execution_count": 9,
   "metadata": {
    "ExecuteTime": {
     "end_time": "2020-04-13T16:59:50.483335Z",
     "start_time": "2020-04-13T16:59:50.460959Z"
    }
   },
   "outputs": [
    {
     "data": {
      "text/plain": [
       "147.0"
      ]
     },
     "execution_count": 9,
     "metadata": {},
     "output_type": "execute_result"
    }
   ],
   "source": [
    "np.rad2deg(np.arccos(-0.8386705679454239))"
   ]
  },
  {
   "cell_type": "code",
   "execution_count": 10,
   "metadata": {
    "ExecuteTime": {
     "end_time": "2020-04-13T16:59:50.910564Z",
     "start_time": "2020-04-13T16:59:50.894677Z"
    }
   },
   "outputs": [
    {
     "data": {
      "text/plain": [
       "147.0"
      ]
     },
     "execution_count": 10,
     "metadata": {},
     "output_type": "execute_result"
    }
   ],
   "source": [
    "compose(np.rad2deg,np.arccos)(-0.8386705679454239)"
   ]
  },
  {
   "cell_type": "code",
   "execution_count": 11,
   "metadata": {
    "ExecuteTime": {
     "end_time": "2020-04-13T16:59:51.266024Z",
     "start_time": "2020-04-13T16:59:51.253915Z"
    }
   },
   "outputs": [],
   "source": [
    "dmg_arccos = compose(np.rad2deg,np.arccos)"
   ]
  },
  {
   "cell_type": "code",
   "execution_count": 12,
   "metadata": {
    "ExecuteTime": {
     "end_time": "2020-04-13T16:59:51.751896Z",
     "start_time": "2020-04-13T16:59:51.743319Z"
    }
   },
   "outputs": [
    {
     "name": "stdout",
     "output_type": "stream",
     "text": [
      "3.141592653589793\n"
     ]
    }
   ],
   "source": [
    "#py calculation gives the same results that the book\n",
    "print (np.arctan(1)*4)"
   ]
  },
  {
   "cell_type": "code",
   "execution_count": 13,
   "metadata": {
    "ExecuteTime": {
     "end_time": "2020-04-13T16:59:52.983663Z",
     "start_time": "2020-04-13T16:59:52.960439Z"
    }
   },
   "outputs": [
    {
     "data": {
      "text/plain": [
       "9"
      ]
     },
     "execution_count": 13,
     "metadata": {},
     "output_type": "execute_result"
    }
   ],
   "source": [
    "np.multiply(3,3)"
   ]
  },
  {
   "cell_type": "code",
   "execution_count": 22,
   "metadata": {
    "ExecuteTime": {
     "end_time": "2020-04-13T17:10:03.896206Z",
     "start_time": "2020-04-13T17:10:03.871878Z"
    }
   },
   "outputs": [
    {
     "name": "stdout",
     "output_type": "stream",
     "text": [
      "j=1, x=0.33333333333333326\n",
      "j=2, x=0.3333333333333328\n",
      "j=3, x=0.3333333333333297\n",
      "j=4, x=0.33333333333330795\n",
      "j=5, x=0.3333333333331556\n",
      "j=6, x=0.33333333333208937\n",
      "j=7, x=0.33333333332462556\n",
      "j=8, x=0.3333333332723789\n",
      "j=9, x=0.33333333290665235\n",
      "j=10, x=0.3333333303465664\n",
      "j=11, x=0.3333333124259652\n",
      "j=12, x=0.3333331869817604\n",
      "j=13, x=0.3333323088725155\n",
      "j=14, x=0.33332616211705446\n",
      "j=15, x=0.3332831352822183\n",
      "j=16, x=0.3329819696541272\n",
      "j=17, x=0.33087489868680575\n",
      "j=18, x=0.3161786859158413\n",
      "j=19, x=0.21589933876305545\n",
      "j=20, x=-0.3645879409320234\n",
      "j=21, x=-0.16826864087455018\n",
      "j=22, x=-0.9134396213586351\n",
      "j=23, x=5.595907855451624\n",
      "j=24, x=286.4235703957983\n",
      "j=25, x=738631.5786748873\n",
      "j=26, x=4910190219772.385\n",
      "j=27, x=2.169897119491403e+26\n",
      "j=28, x=4.23760815825938e+53\n"
     ]
    }
   ],
   "source": [
    "# Accumulated errors. x should be always 0.3333 howerver its value diverges.\n",
    "x = 1/3\n",
    "for j in range(1,29):\n",
    "    x = (9*x+1) * x -1\n",
    "    #x = np.multiply(np.multiply(9,x)+1,x) -1\n",
    "    print (f'j={j}, x={x}')"
   ]
  },
  {
   "cell_type": "code",
   "execution_count": 20,
   "metadata": {
    "ExecuteTime": {
     "end_time": "2020-04-13T17:08:59.016100Z",
     "start_time": "2020-04-13T17:08:59.000479Z"
    }
   },
   "outputs": [
    {
     "name": "stdout",
     "output_type": "stream",
     "text": [
      "j=1, x=1.00000020000001\n",
      "j=3, x=1.0000008000002805\n",
      "j=5, x=1.0000032000049617\n",
      "j=7, x=1.0000128000812871\n",
      "j=9, x=1.0000512013082092\n",
      "j=11, x=1.0002048209628178\n",
      "j=13, x=1.0008195355954042\n",
      "j=15, x=1.0032821744153473\n",
      "j=17, x=1.013193475221909\n",
      "j=19, x=1.053827524154032\n",
      "j=21, x=1.2333267456771864\n",
      "j=23, x=2.3137295779940734\n",
      "j=25, x=28.65829797898773\n",
      "j=27, x=674530.4755217875\n"
     ]
    }
   ],
   "source": [
    "# Accuracy. After 27 iterations the result should be 674530.4755217875\n",
    "x = 1.0000001\n",
    "for j in range(1,29):\n",
    "    x = x * x\n",
    "    if (j % 2 == 1) :\n",
    "        print (f'j={j}, x={x}')"
   ]
  },
  {
   "cell_type": "code",
   "execution_count": 25,
   "metadata": {
    "ExecuteTime": {
     "end_time": "2020-04-12T17:19:16.787322Z",
     "start_time": "2020-04-12T17:19:16.772624Z"
    }
   },
   "outputs": [
    {
     "data": {
      "text/plain": [
       "33"
      ]
     },
     "execution_count": 25,
     "metadata": {},
     "output_type": "execute_result"
    }
   ],
   "source": [
    "x = 4.34\n",
    "int (100*(x - int(x)))"
   ]
  },
  {
   "cell_type": "code",
   "execution_count": 30,
   "metadata": {
    "ExecuteTime": {
     "end_time": "2020-04-12T17:21:43.403718Z",
     "start_time": "2020-04-12T17:21:43.384169Z"
    }
   },
   "outputs": [
    {
     "data": {
      "text/plain": [
       "34.0"
      ]
     },
     "execution_count": 30,
     "metadata": {},
     "output_type": "execute_result"
    }
   ],
   "source": [
    "np.print(100*(x-np.rint(x)))\n"
   ]
  },
  {
   "cell_type": "code",
   "execution_count": null,
   "metadata": {},
   "outputs": [],
   "source": []
  },
  {
   "cell_type": "code",
   "execution_count": null,
   "metadata": {},
   "outputs": [],
   "source": [
    "# Pag 22\n",
    "# Right ascensions are given in (time units) hour minutes and seconds. \n",
    "# Declination are given in (angunlar units) degrees minutes seconds\n",
    "# Since 24h are 360 degrees (1 rotation to the circunference):\n",
    "#        1 h in RA  --> 15º in DEC\n",
    "#        1 m in RA --> 15' in DEC --> 0.25 of 1º\n",
    "#        1 s in RA --> 15\" in DEC --> 0.25 of 1'\n",
    "# This means 1s in RA is \"more distance\" than 1' in DEC so DEC is more precise than RA\n",
    "# so DEC needs \"less decimals\" to express the same precision \n",
    "# So if the DEC of a celestial body is given in 1\" (arc), its right ascension should be given \n",
    "# to the nearest tenth of 1s (of time)\n",
    "\n"
   ]
  },
  {
   "cell_type": "markdown",
   "metadata": {},
   "source": [
    "| RA  ($\\alpha$)   | DEC ($\\delta$)  | Example RA     | Example DEC    |\n",
    "|--------|-------|----------------|----------------|\n",
    "| 1 m    | 0.1 º | 21h 10m        | +47.9º         |\n",
    "| 0.1 m  | 1'    | 21h 9.9m       | +47º 57'       |\n",
    "| 1 s    | 0.1'  | 21h 09m 53s    | +47º 56.1'     |\n",
    "| 0.1 s  | 1\"    | 21h 09m 52.8s  | +47º 56' 41\"   |\n",
    "| 0.01 s | 0.1\"  | 21h 09m 52.83s | +47º 56' 41.2\" |"
   ]
  },
  {
   "cell_type": "code",
   "execution_count": null,
   "metadata": {},
   "outputs": [],
   "source": []
  },
  {
   "cell_type": "code",
   "execution_count": null,
   "metadata": {},
   "outputs": [],
   "source": []
  }
 ],
 "metadata": {
  "kernelspec": {
   "display_name": "base",
   "language": "python",
   "name": "base"
  },
  "language_info": {
   "codemirror_mode": {
    "name": "ipython",
    "version": 3
   },
   "file_extension": ".py",
   "mimetype": "text/x-python",
   "name": "python",
   "nbconvert_exporter": "python",
   "pygments_lexer": "ipython3",
   "version": "3.7.7"
  }
 },
 "nbformat": 4,
 "nbformat_minor": 4
}
