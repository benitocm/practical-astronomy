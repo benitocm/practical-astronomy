{
 "cells": [
  {
   "cell_type": "code",
   "execution_count": 1,
   "metadata": {},
   "outputs": [],
   "source": [
    "from astropy.io import fits\n",
    "import numpy as np\n"
   ]
  },
  {
   "cell_type": "code",
   "execution_count": 10,
   "metadata": {},
   "outputs": [],
   "source": [
    "hms2dec(23, 12, 6)"
   ]
  },
  {
   "cell_type": "code",
   "execution_count": 22,
   "metadata": {},
   "outputs": [],
   "source": [
    "def hms2dec(hh,mm,ss):\n",
    "    return (hh + mm/60 + ss/3600)*15\n",
    "    \n",
    "    "
   ]
  },
  {
   "cell_type": "code",
   "execution_count": 6,
   "metadata": {},
   "outputs": [
    {
     "data": {
      "text/plain": [
       "348.025"
      ]
     },
     "execution_count": 6,
     "metadata": {},
     "output_type": "execute_result"
    }
   ],
   "source": [
    "hms2dec(23, 12, 6)"
   ]
  },
  {
   "cell_type": "code",
   "execution_count": 11,
   "metadata": {},
   "outputs": [],
   "source": [
    "def dms2dec(dg,arm,ars):\n",
    "    value = abs(dg) + arm/60 + ars/3600\n",
    "    if dg < 0:\n",
    "        return -value\n",
    "    else :\n",
    "        return value\n"
   ]
  },
  {
   "cell_type": "code",
   "execution_count": 16,
   "metadata": {},
   "outputs": [],
   "source": [
    "def angular_dist(ra1, dec1, ra2, dec2):\n",
    "    # input and output and decimal degrees\n",
    "    # Trig functions works in radians\n",
    "    r1 = np.radians(ra1)\n",
    "    r2 = np.radians(ra2)\n",
    "    d1 = np.radians(dec1)\n",
    "    d2 = np.radians(dec2)\n",
    "    \n",
    "    b = np.cos(d1)*np.cos(d2)*np.sin(np.abs(r1 - r2)/2)**2\n",
    "    a = np.sin(np.abs(d1 - d2)/2)**2\n",
    "    return np.degrees(2*np.arcsin(np.sqrt(a+b)))\n",
    "    \n",
    "    \n",
    "    \n",
    "    "
   ]
  },
  {
   "cell_type": "code",
   "execution_count": 27,
   "metadata": {},
   "outputs": [],
   "source": [
    "fn='d:\\\\Users\\\\Anybody\\\\Documents\\\\ddastronomy\\\\bss.dat'\n",
    "cat = np.loadtxt(fn, usecols=range(1, 7))"
   ]
  },
  {
   "cell_type": "code",
   "execution_count": 28,
   "metadata": {},
   "outputs": [
    {
     "name": "stdout",
     "output_type": "stream",
     "text": [
      "[  0.     4.    35.65 -47.    36.    19.1 ]\n",
      "0\n",
      "1.1485416666666666\n",
      "-47.60530555555556\n",
      "[  0.    10.    35.92 -30.    27.    48.3 ]\n",
      "1\n",
      "2.6496666666666666\n",
      "-30.463416666666667\n",
      "[  0.    11.     1.27 -26.    12.    33.1 ]\n",
      "2\n",
      "2.7552916666666665\n",
      "-26.209194444444442\n"
     ]
    }
   ],
   "source": [
    "for objid,vect in enumerate(cat):\n",
    "    print (vect)\n",
    "    ra_dg = hms2dec(vect[0],vect[1],vect[2])\n",
    "    dec_dg = dms2dec(vect[3],vect[4],vect[5])\n",
    "    print (objid)\n",
    "    print (ra_dg)\n",
    "    print (dec_dg)\n"
   ]
  },
  {
   "cell_type": "code",
   "execution_count": 29,
   "metadata": {},
   "outputs": [
    {
     "ename": "OSError",
     "evalue": "bss.dat not found.",
     "output_type": "error",
     "traceback": [
      "\u001b[1;31m---------------------------------------------------------------------------\u001b[0m",
      "\u001b[1;31mOSError\u001b[0m                                   Traceback (most recent call last)",
      "\u001b[1;32m<ipython-input-29-c403ea8bdbe2>\u001b[0m in \u001b[0;36m<module>\u001b[1;34m()\u001b[0m\n\u001b[0;32m     72\u001b[0m \u001b[1;31m# Any code inside this `if` statement will be ignored by the automarker.\u001b[0m\u001b[1;33m\u001b[0m\u001b[1;33m\u001b[0m\u001b[0m\n\u001b[0;32m     73\u001b[0m \u001b[1;32mif\u001b[0m \u001b[0m__name__\u001b[0m \u001b[1;33m==\u001b[0m \u001b[1;34m'__main__'\u001b[0m\u001b[1;33m:\u001b[0m\u001b[1;33m\u001b[0m\u001b[0m\n\u001b[1;32m---> 74\u001b[1;33m   \u001b[0mbss_cat\u001b[0m \u001b[1;33m=\u001b[0m \u001b[0mimport_bss\u001b[0m\u001b[1;33m(\u001b[0m\u001b[1;33m)\u001b[0m\u001b[1;33m\u001b[0m\u001b[0m\n\u001b[0m\u001b[0;32m     75\u001b[0m   \u001b[0msuper_cat\u001b[0m \u001b[1;33m=\u001b[0m \u001b[0mimport_super\u001b[0m\u001b[1;33m(\u001b[0m\u001b[1;33m)\u001b[0m\u001b[1;33m\u001b[0m\u001b[0m\n\u001b[0;32m     76\u001b[0m \u001b[1;33m\u001b[0m\u001b[0m\n",
      "\u001b[1;32m<ipython-input-29-c403ea8bdbe2>\u001b[0m in \u001b[0;36mimport_bss\u001b[1;34m()\u001b[0m\n\u001b[0;32m     13\u001b[0m \u001b[1;33m\u001b[0m\u001b[0m\n\u001b[0;32m     14\u001b[0m \u001b[1;32mdef\u001b[0m \u001b[0mimport_bss\u001b[0m\u001b[1;33m(\u001b[0m\u001b[1;33m)\u001b[0m\u001b[1;33m:\u001b[0m\u001b[1;33m\u001b[0m\u001b[0m\n\u001b[1;32m---> 15\u001b[1;33m   \u001b[0mcat\u001b[0m \u001b[1;33m=\u001b[0m \u001b[0mnp\u001b[0m\u001b[1;33m.\u001b[0m\u001b[0mloadtxt\u001b[0m\u001b[1;33m(\u001b[0m\u001b[1;34m'bss.dat'\u001b[0m\u001b[1;33m,\u001b[0m \u001b[0musecols\u001b[0m\u001b[1;33m=\u001b[0m\u001b[0mrange\u001b[0m\u001b[1;33m(\u001b[0m\u001b[1;36m1\u001b[0m\u001b[1;33m,\u001b[0m \u001b[1;36m7\u001b[0m\u001b[1;33m)\u001b[0m\u001b[1;33m)\u001b[0m\u001b[1;33m\u001b[0m\u001b[0m\n\u001b[0m\u001b[0;32m     16\u001b[0m   \u001b[0mtups\u001b[0m \u001b[1;33m=\u001b[0m \u001b[1;33m[\u001b[0m\u001b[1;33m]\u001b[0m\u001b[1;33m\u001b[0m\u001b[0m\n\u001b[0;32m     17\u001b[0m   \u001b[1;32mfor\u001b[0m \u001b[0mobjid\u001b[0m\u001b[1;33m,\u001b[0m\u001b[0mvect\u001b[0m \u001b[1;32min\u001b[0m \u001b[0menumerate\u001b[0m\u001b[1;33m(\u001b[0m\u001b[0mcat\u001b[0m\u001b[1;33m)\u001b[0m\u001b[1;33m:\u001b[0m\u001b[1;33m\u001b[0m\u001b[0m\n",
      "\u001b[1;32mD:\\Anaconda3\\lib\\site-packages\\numpy\\lib\\npyio.py\u001b[0m in \u001b[0;36mloadtxt\u001b[1;34m(fname, dtype, comments, delimiter, converters, skiprows, usecols, unpack, ndmin, encoding)\u001b[0m\n\u001b[0;32m    915\u001b[0m             \u001b[0mfname\u001b[0m \u001b[1;33m=\u001b[0m \u001b[0mstr\u001b[0m\u001b[1;33m(\u001b[0m\u001b[0mfname\u001b[0m\u001b[1;33m)\u001b[0m\u001b[1;33m\u001b[0m\u001b[0m\n\u001b[0;32m    916\u001b[0m         \u001b[1;32mif\u001b[0m \u001b[0m_is_string_like\u001b[0m\u001b[1;33m(\u001b[0m\u001b[0mfname\u001b[0m\u001b[1;33m)\u001b[0m\u001b[1;33m:\u001b[0m\u001b[1;33m\u001b[0m\u001b[0m\n\u001b[1;32m--> 917\u001b[1;33m             \u001b[0mfh\u001b[0m \u001b[1;33m=\u001b[0m \u001b[0mnp\u001b[0m\u001b[1;33m.\u001b[0m\u001b[0mlib\u001b[0m\u001b[1;33m.\u001b[0m\u001b[0m_datasource\u001b[0m\u001b[1;33m.\u001b[0m\u001b[0mopen\u001b[0m\u001b[1;33m(\u001b[0m\u001b[0mfname\u001b[0m\u001b[1;33m,\u001b[0m \u001b[1;34m'rt'\u001b[0m\u001b[1;33m,\u001b[0m \u001b[0mencoding\u001b[0m\u001b[1;33m=\u001b[0m\u001b[0mencoding\u001b[0m\u001b[1;33m)\u001b[0m\u001b[1;33m\u001b[0m\u001b[0m\n\u001b[0m\u001b[0;32m    918\u001b[0m             \u001b[0mfencoding\u001b[0m \u001b[1;33m=\u001b[0m \u001b[0mgetattr\u001b[0m\u001b[1;33m(\u001b[0m\u001b[0mfh\u001b[0m\u001b[1;33m,\u001b[0m \u001b[1;34m'encoding'\u001b[0m\u001b[1;33m,\u001b[0m \u001b[1;34m'latin1'\u001b[0m\u001b[1;33m)\u001b[0m\u001b[1;33m\u001b[0m\u001b[0m\n\u001b[0;32m    919\u001b[0m             \u001b[0mfh\u001b[0m \u001b[1;33m=\u001b[0m \u001b[0miter\u001b[0m\u001b[1;33m(\u001b[0m\u001b[0mfh\u001b[0m\u001b[1;33m)\u001b[0m\u001b[1;33m\u001b[0m\u001b[0m\n",
      "\u001b[1;32mD:\\Anaconda3\\lib\\site-packages\\numpy\\lib\\_datasource.py\u001b[0m in \u001b[0;36mopen\u001b[1;34m(path, mode, destpath, encoding, newline)\u001b[0m\n\u001b[0;32m    258\u001b[0m \u001b[1;33m\u001b[0m\u001b[0m\n\u001b[0;32m    259\u001b[0m     \u001b[0mds\u001b[0m \u001b[1;33m=\u001b[0m \u001b[0mDataSource\u001b[0m\u001b[1;33m(\u001b[0m\u001b[0mdestpath\u001b[0m\u001b[1;33m)\u001b[0m\u001b[1;33m\u001b[0m\u001b[0m\n\u001b[1;32m--> 260\u001b[1;33m     \u001b[1;32mreturn\u001b[0m \u001b[0mds\u001b[0m\u001b[1;33m.\u001b[0m\u001b[0mopen\u001b[0m\u001b[1;33m(\u001b[0m\u001b[0mpath\u001b[0m\u001b[1;33m,\u001b[0m \u001b[0mmode\u001b[0m\u001b[1;33m,\u001b[0m \u001b[0mencoding\u001b[0m\u001b[1;33m=\u001b[0m\u001b[0mencoding\u001b[0m\u001b[1;33m,\u001b[0m \u001b[0mnewline\u001b[0m\u001b[1;33m=\u001b[0m\u001b[0mnewline\u001b[0m\u001b[1;33m)\u001b[0m\u001b[1;33m\u001b[0m\u001b[0m\n\u001b[0m\u001b[0;32m    261\u001b[0m \u001b[1;33m\u001b[0m\u001b[0m\n\u001b[0;32m    262\u001b[0m \u001b[1;33m\u001b[0m\u001b[0m\n",
      "\u001b[1;32mD:\\Anaconda3\\lib\\site-packages\\numpy\\lib\\_datasource.py\u001b[0m in \u001b[0;36mopen\u001b[1;34m(self, path, mode, encoding, newline)\u001b[0m\n\u001b[0;32m    614\u001b[0m                                       encoding=encoding, newline=newline)\n\u001b[0;32m    615\u001b[0m         \u001b[1;32melse\u001b[0m\u001b[1;33m:\u001b[0m\u001b[1;33m\u001b[0m\u001b[0m\n\u001b[1;32m--> 616\u001b[1;33m             \u001b[1;32mraise\u001b[0m \u001b[0mIOError\u001b[0m\u001b[1;33m(\u001b[0m\u001b[1;34m\"%s not found.\"\u001b[0m \u001b[1;33m%\u001b[0m \u001b[0mpath\u001b[0m\u001b[1;33m)\u001b[0m\u001b[1;33m\u001b[0m\u001b[0m\n\u001b[0m\u001b[0;32m    617\u001b[0m \u001b[1;33m\u001b[0m\u001b[0m\n\u001b[0;32m    618\u001b[0m \u001b[1;33m\u001b[0m\u001b[0m\n",
      "\u001b[1;31mOSError\u001b[0m: bss.dat not found."
     ]
    }
   ],
   "source": [
    "# Write your crossmatch function here.\n",
    "import numpy as np\n",
    "def hms2dec(hh,mm,ss):\n",
    "    return (hh + mm/60 + ss/3600)*15\n",
    "  \n",
    "def dms2dec(dg,arm,ars):\n",
    "    value = abs(dg) + arm/60 + ars/3600\n",
    "    if dg < 0:\n",
    "        return -value\n",
    "    else :\n",
    "        return value\n",
    "  \n",
    "  \n",
    "def import_bss():\n",
    "  cat = np.loadtxt('bss.dat', usecols=range(1, 7))\n",
    "  tups = []\n",
    "  for objid,vect in enumerate(cat):    \n",
    "    ra_dg = hms2dec(vect[0],vect[1],vect[2])\n",
    "    dec_dg = dms2dec(vect[3],vect[4],vect[5])\n",
    "    tups.append((objid+1,ra_dg,dec_dg))\n",
    "  return tups\n",
    "\n",
    "def import_super():\n",
    "  cat = np.loadtxt('super.csv', delimiter=',', skiprows=1, usecols=[0, 1])\n",
    "  tups = []\n",
    "  for objid,vect in enumerate(cat):    \n",
    "    tups.append((objid+1,vect[0],vect[1]))\n",
    "  return tups\n",
    "\n",
    "def angular_dist(ra1, dec1, ra2, dec2):\n",
    "    # input and output and decimal degrees\n",
    "    # Trig functions works in radians\n",
    "    r1 = np.radians(ra1)\n",
    "    r2 = np.radians(ra2)\n",
    "    d1 = np.radians(dec1)\n",
    "    d2 = np.radians(dec2)\n",
    "    \n",
    "    b = np.cos(d1)*np.cos(d2)*np.sin(np.abs(r1 - r2)/2)**2\n",
    "    a = np.sin(np.abs(d1 - d2)/2)**2\n",
    "    return np.degrees(2*np.arcsin(np.sqrt(a+b)))\n",
    "\n",
    "def find_closest(cat_tups, ra, dec):\n",
    "  themin = np.inf\n",
    "  myobj = None\n",
    "  \n",
    "  for tup in cat_tups:\n",
    "    dist =  angular_dist(tup[1],tup[2], ra, dec)\n",
    "    if dist < themin :\n",
    "      themin = dist\n",
    "      myobj = tup[0]\n",
    "      \n",
    "  return (myobj,themin)\n",
    "\n",
    "def crossmatch(cat1_tups, cat2_tups, max_dist):\n",
    "  matches = []\n",
    "  no_matches = []\n",
    "  for obj1,ra1,dec1 in cat1_tups:\n",
    "    obj2, dist = find_closest(cat2_tups,ra1,dec1)\n",
    "    if dist <= max_dist:\n",
    "      matches.append((obj1,obj2,dist))\n",
    "    else :\n",
    "      no_matches.append(obj1)\n",
    "  return matches,no_matches\n",
    "\n",
    "\n",
    "  \n",
    "\n",
    "\n",
    "\n",
    "\n",
    "# You can use this to test your function.\n",
    "# Any code inside this `if` statement will be ignored by the automarker.\n",
    "if __name__ == '__main__':\n",
    "  bss_cat = import_bss()\n",
    "  super_cat = import_super()\n",
    "\n",
    "  # First example in the question\n",
    "  max_dist = 40/3600\n",
    "  matches, no_matches = crossmatch(bss_cat, super_cat, max_dist)\n",
    "  print(matches[:3])\n",
    "  print(no_matches[:3])\n",
    "  print(len(no_matches))\n",
    "\n",
    "  # Second example in the question\n",
    "  max_dist = 5/3600\n",
    "  matches, no_matches = crossmatch(bss_cat, super_cat, max_dist)\n",
    "  print(matches[:3])\n",
    "  print(no_matches[:3])\n",
    "  print(len(no_matches))\n"
   ]
  },
  {
   "cell_type": "code",
   "execution_count": 30,
   "metadata": {},
   "outputs": [],
   "source": [
    "cat1 = np.array([[180, 30], [45, 10], [300, -45]])\n"
   ]
  },
  {
   "cell_type": "code",
   "execution_count": 31,
   "metadata": {},
   "outputs": [
    {
     "data": {
      "text/plain": [
       "(3, 2)"
      ]
     },
     "execution_count": 31,
     "metadata": {},
     "output_type": "execute_result"
    }
   ],
   "source": [
    "cat1.shape"
   ]
  },
  {
   "cell_type": "code",
   "execution_count": 27,
   "metadata": {},
   "outputs": [],
   "source": [
    " x = np.array([0, 1, 1, 3, 2, 1, 7, 23])"
   ]
  },
  {
   "cell_type": "code",
   "execution_count": 28,
   "metadata": {},
   "outputs": [
    {
     "data": {
      "text/plain": [
       "array([1, 3, 1, 1, 0, 0, 0, 1, 0, 0, 0, 0, 0, 0, 0, 0, 0, 0, 0, 0, 0, 0,\n",
       "       0, 1], dtype=int64)"
      ]
     },
     "execution_count": 28,
     "metadata": {},
     "output_type": "execute_result"
    }
   ],
   "source": [
    "np.bincount(x)"
   ]
  },
  {
   "cell_type": "code",
   "execution_count": 69,
   "metadata": {},
   "outputs": [],
   "source": [
    "values = [1, 5, 7, 7, 3, 6, 1, 1]\n",
    "B = 4\n",
    "#alues = [1, 1, 3, 2, 2, 6]\n",
    "#=3\n",
    "def median_bins(values,B):\n",
    "    mean = np.mean(values)\n",
    "    std = np.std(values)\n",
    "    minval = mean-std\n",
    "    maxval = mean+std\n",
    "    binwith = 2*std/B\n",
    "    bins = np.linspace(minval,maxval, num=B,endpoint=False)\n",
    "    #print (bins)\n",
    "    inds = np.digitize([v for v in values if v <maxval], bins)\n",
    "    counts = np.bincount(inds)\n",
    "    counts.resize(1,B+1)\n",
    "    counts = counts.ravel()\n",
    "    return mean,std,int(counts[0]),np.array(counts[1:].tolist())\n",
    "\n",
    "  "
   ]
  },
  {
   "cell_type": "code",
   "execution_count": 71,
   "metadata": {},
   "outputs": [
    {
     "data": {
      "text/plain": [
       "(2.5, 1.707825127659933, 0, array([2, 3, 0]))"
      ]
     },
     "execution_count": 71,
     "metadata": {},
     "output_type": "execute_result"
    }
   ],
   "source": [
    "median_bins([1, 1, 3, 2, 2, 6], 3)"
   ]
  },
  {
   "cell_type": "code",
   "execution_count": 65,
   "metadata": {},
   "outputs": [
    {
     "ename": "SyntaxError",
     "evalue": "invalid syntax (<ipython-input-65-cf463a5954f9>, line 1)",
     "output_type": "error",
     "traceback": [
      "\u001b[1;36m  File \u001b[1;32m\"<ipython-input-65-cf463a5954f9>\"\u001b[1;36m, line \u001b[1;32m1\u001b[0m\n\u001b[1;33m    c.\u001b[0m\n\u001b[1;37m      ^\u001b[0m\n\u001b[1;31mSyntaxError\u001b[0m\u001b[1;31m:\u001b[0m invalid syntax\n"
     ]
    }
   ],
   "source": [
    "c."
   ]
  },
  {
   "cell_type": "code",
   "execution_count": 46,
   "metadata": {},
   "outputs": [],
   "source": [
    "mean,std,bin0,bincounts = median_bins([1, 1, 3, 2, 2, 6], 3)"
   ]
  },
  {
   "cell_type": "code",
   "execution_count": 48,
   "metadata": {},
   "outputs": [
    {
     "data": {
      "text/plain": [
       "array([2], dtype=int64)"
      ]
     },
     "execution_count": 48,
     "metadata": {},
     "output_type": "execute_result"
    }
   ],
   "source": [
    "bincounts"
   ]
  },
  {
   "cell_type": "code",
   "execution_count": 241,
   "metadata": {},
   "outputs": [
    {
     "name": "stdout",
     "output_type": "stream",
     "text": [
      "2\n",
      "5\n",
      "2.8463752127665547\n"
     ]
    }
   ],
   "source": [
    "acc = bin0\n",
    "N = len(values)\n",
    "B = 3\n",
    "binwith = 2*std/B\n",
    "for ind, binc in enumerate(bincounts):\n",
    "    if acc > (N+1)/2 :\n",
    "        print (ind)\n",
    "        print (acc)\n",
    "        bstart  = (ind)*binwith\n",
    "        bend  = (ind+1)*binwith       \n",
    "        print ((bstart+bend)/2)\n",
    "        break\n",
    "    acc += binc\n"
   ]
  },
  {
   "cell_type": "code",
   "execution_count": null,
   "metadata": {},
   "outputs": [],
   "source": []
  },
  {
   "cell_type": "code",
   "execution_count": 200,
   "metadata": {},
   "outputs": [
    {
     "data": {
      "text/plain": [
       "array([[1, 2, 3, 1]])"
      ]
     },
     "execution_count": 200,
     "metadata": {},
     "output_type": "execute_result"
    }
   ],
   "source": [
    "np.resize(x,(1,4))"
   ]
  },
  {
   "cell_type": "code",
   "execution_count": 197,
   "metadata": {},
   "outputs": [
    {
     "data": {
      "text/plain": [
       "array([0, 2, 0, 0, 1], dtype=int64)"
      ]
     },
     "execution_count": 197,
     "metadata": {},
     "output_type": "execute_result"
    }
   ],
   "source": [
    "np.bincount(np.array([1,1,4]))"
   ]
  },
  {
   "cell_type": "code",
   "execution_count": 148,
   "metadata": {},
   "outputs": [
    {
     "data": {
      "text/plain": [
       "(3.875, 2.521780125229002, 3, array([3, 0, 1, 1, 1], dtype=int64))"
      ]
     },
     "execution_count": 148,
     "metadata": {},
     "output_type": "execute_result"
    }
   ],
   "source": [
    "median_bins([1, 5, 7, 7, 3, 6, 1, 1], 4)"
   ]
  },
  {
   "cell_type": "code",
   "execution_count": 97,
   "metadata": {},
   "outputs": [],
   "source": [
    "import itertools\n",
    "def median_approx(values, B):\n",
    "    mean, std, bin0, bincounts = median_bins(values,B)\n",
    "    binwith = 2*std/B\n",
    "    minval = mean-std\n",
    "    #print (binwith)\n",
    "    N = len(values)\n",
    "    total = 0\n",
    "    #print ((N + 1)/2)\n",
    "    for i,count_x in enumerate(itertools.chain([bin0],bincounts)):\n",
    "        total += count_x\n",
    "        #print (total)\n",
    "        if total >= (N + 1)/2 :\n",
    "            break\n",
    "    start = minval+((i-1)*binwith) \n",
    "    end = minval+((i)*binwith)\n",
    "    return ((start+end)/2)\n",
    "            \n",
    "        \n"
   ]
  },
  {
   "cell_type": "code",
   "execution_count": 98,
   "metadata": {},
   "outputs": [
    {
     "data": {
      "text/plain": [
       "4.50544503130725"
      ]
     },
     "execution_count": 98,
     "metadata": {},
     "output_type": "execute_result"
    }
   ],
   "source": [
    "median_approx([1, 5, 7, 7, 3, 6, 1, 1], 4)"
   ]
  },
  {
   "cell_type": "code",
   "execution_count": 99,
   "metadata": {},
   "outputs": [
    {
     "data": {
      "text/plain": [
       "2.5"
      ]
     },
     "execution_count": 99,
     "metadata": {},
     "output_type": "execute_result"
    }
   ],
   "source": [
    " median_approx([1,1,3,2,2,6], 3)\n"
   ]
  },
  {
   "cell_type": "code",
   "execution_count": 80,
   "metadata": {},
   "outputs": [
    {
     "data": {
      "text/plain": [
       "(0.5, 0.5, 0, array([1, 0, 0, 0, 0]))"
      ]
     },
     "execution_count": 80,
     "metadata": {},
     "output_type": "execute_result"
    }
   ],
   "source": [
    "median_bins([0, 1], 5)\n",
    "#(0.5, 0.5, 0, array([ 1.,  0.,  0.,  0., 0.]))"
   ]
  },
  {
   "cell_type": "code",
   "execution_count": 100,
   "metadata": {},
   "outputs": [
    {
     "data": {
      "text/plain": [
       "0.9"
      ]
     },
     "execution_count": 100,
     "metadata": {},
     "output_type": "execute_result"
    }
   ],
   "source": [
    "median_approx([0, 1], 5)\n"
   ]
  },
  {
   "cell_type": "code",
   "execution_count": 118,
   "metadata": {},
   "outputs": [
    {
     "data": {
      "text/plain": [
       "array([0.79217487, 1.93072496, 3.06927504])"
      ]
     },
     "execution_count": 118,
     "metadata": {},
     "output_type": "execute_result"
    }
   ],
   "source": [
    "bins"
   ]
  },
  {
   "cell_type": "code",
   "execution_count": 80,
   "metadata": {},
   "outputs": [
    {
     "data": {
      "text/plain": [
       "array([0, 1, 1, 2, 2, 3, 3], dtype=int64)"
      ]
     },
     "execution_count": 80,
     "metadata": {},
     "output_type": "execute_result"
    }
   ],
   "source": [
    "inds\n"
   ]
  },
  {
   "cell_type": "code",
   "execution_count": 2,
   "metadata": {},
   "outputs": [],
   "source": [
    "import numpy as np\n",
    "def angular_dist_input_rads(r1, d1, r2, d2):\n",
    "    # input are in rads\n",
    "    # output are in degrees\n",
    "    # Trig functions works in radians    \n",
    "    b = np.cos(d1)*np.cos(d2)*np.sin(np.abs(r1 - r2)/2)**2\n",
    "    a = np.sin(np.abs(d1 - d2)/2)**2\n",
    "    return np.degrees(2*np.arcsin(np.sqrt(a+b)))"
   ]
  },
  {
   "cell_type": "code",
   "execution_count": 3,
   "metadata": {},
   "outputs": [],
   "source": [
    "# cats are degrees\n",
    "cat1 = np.array([[180, 30], [45, 10], [300, -45]])\n",
    "cat2 = np.array([[180, 32], [55, 10], [302, -44]])"
   ]
  },
  {
   "cell_type": "code",
   "execution_count": 4,
   "metadata": {},
   "outputs": [
    {
     "data": {
      "text/plain": [
       "array([[180,  30],\n",
       "       [ 45,  10],\n",
       "       [300, -45]])"
      ]
     },
     "execution_count": 4,
     "metadata": {},
     "output_type": "execute_result"
    }
   ],
   "source": [
    "cat1\n"
   ]
  },
  {
   "cell_type": "code",
   "execution_count": null,
   "metadata": {},
   "outputs": [],
   "source": []
  }
 ],
 "metadata": {
  "kernelspec": {
   "display_name": "Python 3",
   "language": "python",
   "name": "python3"
  },
  "language_info": {
   "codemirror_mode": {
    "name": "ipython",
    "version": 3
   },
   "file_extension": ".py",
   "mimetype": "text/x-python",
   "name": "python",
   "nbconvert_exporter": "python",
   "pygments_lexer": "ipython3",
   "version": "3.7.7"
  }
 },
 "nbformat": 4,
 "nbformat_minor": 2
}
