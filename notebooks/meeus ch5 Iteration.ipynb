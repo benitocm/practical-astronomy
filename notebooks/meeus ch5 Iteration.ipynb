{
 "cells": [
  {
   "cell_type": "code",
   "execution_count": 23,
   "metadata": {
    "ExecuteTime": {
     "end_time": "2020-04-18T12:07:28.080085Z",
     "start_time": "2020-04-18T12:07:28.058909Z"
    }
   },
   "outputs": [],
   "source": [
    "%matplotlib inline\n",
    "import matplotlib.pyplot as plt\n",
    "import seaborn as sns; sns.set()\n",
    "import numpy as np\n",
    "import pandas as pd\n",
    "import scipy\n"
   ]
  },
  {
   "cell_type": "markdown",
   "metadata": {},
   "source": [
    "### Iteration"
   ]
  },
  {
   "cell_type": "code",
   "execution_count": 2,
   "metadata": {
    "ExecuteTime": {
     "end_time": "2020-04-18T11:55:50.945480Z",
     "start_time": "2020-04-18T11:55:50.917316Z"
    }
   },
   "outputs": [],
   "source": [
    "# General function to iterate functions of onw variable\n",
    "def do_iterations(f,x_0,n_iter=50):\n",
    "    x = x_0\n",
    "    for n in range(n_iter):\n",
    "        new_value = f(x)\n",
    "        if np.isclose(new_value,x):\n",
    "            return (1,new_value,n)\n",
    "        else :\n",
    "            x = new_value\n",
    "    return (0,new_value,n)\n",
    "    \n",
    "    do_iterations(f,0)"
   ]
  },
  {
   "cell_type": "code",
   "execution_count": 3,
   "metadata": {
    "ExecuteTime": {
     "end_time": "2020-04-18T11:55:51.915682Z",
     "start_time": "2020-04-18T11:55:51.897543Z"
    }
   },
   "outputs": [
    {
     "data": {
      "text/plain": [
       "(1, 1.3217860821189957, 8)"
      ]
     },
     "execution_count": 3,
     "metadata": {},
     "output_type": "execute_result"
    }
   ],
   "source": [
    "f = lambda x : np.power((8-3*x),0.2)\n",
    "do_iterations(f,0)\n"
   ]
  },
  {
   "cell_type": "code",
   "execution_count": 4,
   "metadata": {
    "ExecuteTime": {
     "end_time": "2020-04-18T11:55:52.402357Z",
     "start_time": "2020-04-18T11:55:52.386728Z"
    }
   },
   "outputs": [
    {
     "data": {
      "text/plain": [
       "(1, 0.4692498764760976, 3)"
      ]
     },
     "execution_count": 4,
     "metadata": {},
     "output_type": "execute_result"
    }
   ],
   "source": [
    "f = lambda x : 8/(np.power(x,4)+17)\n",
    "do_iterations(f,0)"
   ]
  },
  {
   "cell_type": "code",
   "execution_count": 5,
   "metadata": {
    "ExecuteTime": {
     "end_time": "2020-04-18T11:55:52.918758Z",
     "start_time": "2020-04-18T11:55:52.823432Z"
    }
   },
   "outputs": [
    {
     "data": {
      "text/plain": [
       "(0, 0.14943692676069634, 999)"
      ]
     },
     "execution_count": 5,
     "metadata": {},
     "output_type": "execute_result"
    }
   ],
   "source": [
    "f = lambda x : 8/(np.power(x,4)+3)\n",
    "do_iterations(f,0,1000)"
   ]
  },
  {
   "cell_type": "code",
   "execution_count": 6,
   "metadata": {
    "ExecuteTime": {
     "end_time": "2020-04-18T11:55:53.148926Z",
     "start_time": "2020-04-18T11:55:53.128313Z"
    }
   },
   "outputs": [
    {
     "data": {
      "text/plain": [
       "(0, 0.14943692676069634, 49)"
      ]
     },
     "execution_count": 6,
     "metadata": {},
     "output_type": "execute_result"
    }
   ],
   "source": [
    "do_iterations(f,0)"
   ]
  },
  {
   "cell_type": "markdown",
   "metadata": {},
   "source": [
    "The next equation appears in the calculation of the motion in a parabolic orbit (Chapter 34). $W$ is a constant while $s$ is the unknown quantity:\n",
    "$$s^3+3s-W=0$$"
   ]
  },
  {
   "cell_type": "code",
   "execution_count": 7,
   "metadata": {
    "ExecuteTime": {
     "end_time": "2020-04-18T11:55:53.365958Z",
     "start_time": "2020-04-18T11:55:53.348056Z"
    }
   },
   "outputs": [
    {
     "name": "stdout",
     "output_type": "stream",
     "text": [
      "xa:  0.46622052391077345\n",
      "x0:  0\n",
      "f(xa) =  0.0\n"
     ]
    }
   ],
   "source": [
    "# Using Newton-Ramson method\n",
    "from scipy.optimize import newton\n",
    "\n",
    "f = lambda x,W : x**3+3*x-W\n",
    "\n",
    "x0 = 0\n",
    "W = 1.5\n",
    "xa = newton(f, x0, fprime=None, args=(W,), tol=1.48e-08, maxiter=50, fprime2=None)\n",
    "\n",
    "print('xa: ', xa)\n",
    "print('x0: ', x0)\n",
    "print(\"f(xa) = \", f(xa,W))"
   ]
  },
  {
   "cell_type": "code",
   "execution_count": 8,
   "metadata": {
    "ExecuteTime": {
     "end_time": "2020-04-18T11:55:53.562728Z",
     "start_time": "2020-04-18T11:55:53.554839Z"
    }
   },
   "outputs": [],
   "source": [
    "# Witn W=0.9 it converges\n",
    "# With W=1.5 "
   ]
  },
  {
   "cell_type": "code",
   "execution_count": 11,
   "metadata": {
    "ExecuteTime": {
     "end_time": "2020-04-18T11:56:56.559106Z",
     "start_time": "2020-04-18T11:56:56.549933Z"
    }
   },
   "outputs": [],
   "source": [
    "f = lambda x : x**5 + 17 * x - 8"
   ]
  },
  {
   "cell_type": "code",
   "execution_count": 27,
   "metadata": {
    "ExecuteTime": {
     "end_time": "2020-04-18T12:08:30.028273Z",
     "start_time": "2020-04-18T12:08:30.014168Z"
    }
   },
   "outputs": [
    {
     "name": "stdout",
     "output_type": "stream",
     "text": [
      "root 1.2599210498945013\n",
      "F(root) =  -1.7710277688820497e-12\n"
     ]
    }
   ],
   "source": [
    "# Using the biscection method\n",
    "\n",
    "# interval [a,b] where the reots are looked for\n",
    "a = -20\n",
    "b = 20\n",
    "x1 = scipy.optimize.bisect(f, a, b, args=(), xtol=2e-12, rtol=8.881784197001252e-16, maxiter=100, full_output=False, disp=True)\n",
    "print(\"root\" , x1)\n",
    "print (\"F(root) = \",f(x1))"
   ]
  },
  {
   "cell_type": "code",
   "execution_count": 20,
   "metadata": {
    "ExecuteTime": {
     "end_time": "2020-04-18T12:00:03.139107Z",
     "start_time": "2020-04-18T12:00:03.120867Z"
    }
   },
   "outputs": [
    {
     "name": "stdout",
     "output_type": "stream",
     "text": [
      "F(root) =  4.5492498657040414e-12\n"
     ]
    }
   ],
   "source": [
    "print (\"F(root) = \",f(x1))"
   ]
  },
  {
   "cell_type": "code",
   "execution_count": 29,
   "metadata": {
    "ExecuteTime": {
     "end_time": "2020-04-18T12:11:31.866367Z",
     "start_time": "2020-04-18T12:11:31.850709Z"
    }
   },
   "outputs": [
    {
     "name": "stdout",
     "output_type": "stream",
     "text": [
      "root 1.2599210498938191\n",
      "F(root) =  -5.019540338935258e-12\n"
     ]
    }
   ],
   "source": [
    "f = lambda x : np.power(x,3) - 2\n",
    "a = 0.0\n",
    "b = 2.0\n",
    "x1 = scipy.optimize.bisect(f, a, b, args=(), xtol=2e-12, rtol=8.881784197001252e-16, maxiter=100, full_output=False, disp=True)\n",
    "print(\"root\" , x1)\n",
    "print (\"F(root) = \",f(x1))"
   ]
  },
  {
   "cell_type": "markdown",
   "metadata": {},
   "source": [
    "In orbital mechanics, when solving the central-force problem it becomes necessary to solve the Kepler's equation. This is a transcendental equation that relates the orbital parameters of the trajectory.\n",
    "\n",
    "*Kepler equation:* $M = E - \\epsilon \\sin E$\n",
    "\n",
    "where $M$ is the mean anomaly, $E$ the eccentric anomaly and $\\epsilon$ the eccentricity. The mean anomaly can be computed with the expression\n",
    "\n",
    "$$M = n\\ t = \\sqrt{ \\frac{GM}{a^3} } t$$\n",
    "\n",
    "where $n$ is the mean motion, $G$ the gravitational constant, $M$ the mass of the central body and $a$ the semi-major axis. $t$ is the time where the position in the trajectory will be computed.\n",
    "\n",
    "The coordinates $x$ and $y$ as time functions can be recovered by means of the next expressions\n",
    "\n",
    "$$x(t) = a(\\cos E - \\epsilon)$$\n",
    "\n",
    "$$y(t) = b\\sin E$$\n",
    "\n",
    "where $b = a \\sqrt{1-\\epsilon^2}$ is the semi-minor axis of the orbit and the implicit time-dependence of the eccentric anomaly $E$ is computed through the Kepler's equation."
   ]
  },
  {
   "cell_type": "markdown",
   "metadata": {
    "ExecuteTime": {
     "end_time": "2020-04-18T12:14:35.852211Z",
     "start_time": "2020-04-18T12:14:35.832923Z"
    }
   },
   "source": [
    "**Problem:**\n",
    "\n",
    "For a stallite orbiting the earth in a equatorial trajectory with eccentricity $\\epsilon = 0.5$ at a geostationary distance for the semi-major axis, tabulate the positions $x$ and $y$ within the orbital plane in intervals of $15$ min during $5$ hours.\n",
    "\n",
    "**Parameters:**\n",
    "\n",
    "- $\\epsilon = 0.5$\n",
    "\n",
    "- $a = 35900$ km\n",
    "\n",
    "- $G = 6.67384 \\times 10^{-11}$ m$^3$ kg$^{-1}$ s$^{-2}$\n",
    "\n",
    "- $M_{\\oplus} = 5.972\\times 10^{24}$ kg"
   ]
  },
  {
   "cell_type": "code",
   "execution_count": null,
   "metadata": {},
   "outputs": [],
   "source": []
  }
 ],
 "metadata": {
  "kernelspec": {
   "display_name": "base",
   "language": "python",
   "name": "base"
  },
  "language_info": {
   "codemirror_mode": {
    "name": "ipython",
    "version": 3
   },
   "file_extension": ".py",
   "mimetype": "text/x-python",
   "name": "python",
   "nbconvert_exporter": "python",
   "pygments_lexer": "ipython3",
   "version": "3.7.7"
  }
 },
 "nbformat": 4,
 "nbformat_minor": 4
}
