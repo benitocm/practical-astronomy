{
 "cells": [
  {
   "cell_type": "code",
   "execution_count": 3,
   "metadata": {
    "ExecuteTime": {
     "end_time": "2020-04-16T17:45:37.359828Z",
     "start_time": "2020-04-16T17:45:29.674798Z"
    }
   },
   "outputs": [],
   "source": [
    "import numpy as np\n",
    "from toolz import pipe, compose\n",
    "from math import isclose\n",
    "\n",
    "from scipy.interpolate import interp1d\n",
    "import matplotlib.pyplot as pl\n",
    "# https://www.unioviedo.es/compnum/labs/PYTHON/Interpolation.html\n",
    "#http://balitsky.com/teaching/phys420/Nm1_interpolation.pdf"
   ]
  },
  {
   "cell_type": "markdown",
   "metadata": {},
   "source": [
    "### Three Tabular  values (x1,x2,x3)"
   ]
  },
  {
   "cell_type": "markdown",
   "metadata": {},
   "source": [
    "Interpoaltion from three tabulas values is permitted when the second differences are almost constant in the part of the table to be used, i.e., when the thrid differences are almost zero."
   ]
  },
  {
   "cell_type": "code",
   "execution_count": 16,
   "metadata": {
    "ExecuteTime": {
     "end_time": "2020-04-15T17:33:12.975609Z",
     "start_time": "2020-04-15T17:33:12.966475Z"
    }
   },
   "outputs": [],
   "source": [
    "# Pag 24. Distance of Mars to the Earth from 5 to 9 November 1992,\n",
    "# at Oh TD in astronomical units:\n",
    "xs = np.array([5,6,7,8,9])  # days\n",
    "ys = np.array([.898013,.891109,.884226, .877366, .870531]) # distance"
   ]
  },
  {
   "cell_type": "code",
   "execution_count": 17,
   "metadata": {
    "ExecuteTime": {
     "end_time": "2020-04-15T17:33:13.742471Z",
     "start_time": "2020-04-15T17:33:13.725550Z"
    }
   },
   "outputs": [
    {
     "name": "stdout",
     "output_type": "stream",
     "text": [
      "Input array  :  [0.898013 0.891109 0.884226 0.877366 0.870531]\n",
      "First order difference  :  [-0.006904 -0.006883 -0.00686  -0.006835]\n",
      "Second order difference :  [2.1e-05 2.3e-05 2.5e-05]\n",
      "Third order difference  :  [2.e-06 2.e-06]\n"
     ]
    }
   ],
   "source": [
    "print(\"Input array  : \", ys) \n",
    "print(\"First order difference  : \", np.diff(ys)) \n",
    "print(\"Second order difference : \", np.diff(ys, n = 2)) \n",
    "print(\"Third order difference  : \", np.diff(ys, n = 3))"
   ]
  },
  {
   "cell_type": "markdown",
   "metadata": {},
   "source": [
    "The central value $x_{2}$ must be chosen in such a way that it is that value of x that is closest to the value of x for which we want to perform the interpolation. For example, to obtain the value for November 7 at 22h 14m, the $x_{2}$ = 8, so we would use the entries 7,8,9 i.e. we need 3 values to interpolate."
   ]
  },
  {
   "cell_type": "markdown",
   "metadata": {},
   "source": [
    "Interpolating factor n is x-$x_{2}$, n should be between -0.5 and 0.5 although the following formulae will also given correct: \n",
    "y = $y_{2}$ + n/2 (a+b+n*c)"
   ]
  },
  {
   "cell_type": "code",
   "execution_count": 18,
   "metadata": {
    "ExecuteTime": {
     "end_time": "2020-04-15T17:33:15.392567Z",
     "start_time": "2020-04-15T17:33:15.385577Z"
    }
   },
   "outputs": [],
   "source": [
    "#Pag 25\n",
    "#Calculate the distance of Mars to the Earth on 1992 November 8, at 4h 21m"
   ]
  },
  {
   "cell_type": "code",
   "execution_count": 19,
   "metadata": {
    "ExecuteTime": {
     "end_time": "2020-04-15T17:33:16.292771Z",
     "start_time": "2020-04-15T17:33:16.283047Z"
    }
   },
   "outputs": [],
   "source": [
    "def hhmmss2hh(h,m,s):\n",
    "    return h+(m/60)+(s/3600)\n"
   ]
  },
  {
   "cell_type": "code",
   "execution_count": 32,
   "metadata": {
    "ExecuteTime": {
     "end_time": "2020-04-15T17:39:54.658949Z",
     "start_time": "2020-04-15T17:39:54.644468Z"
    }
   },
   "outputs": [
    {
     "name": "stdout",
     "output_type": "stream",
     "text": [
      "Y:  0.8761253012695313\n"
     ]
    }
   ],
   "source": [
    "n = hhmmss2hh(4,21,0)/24 # the tabular interval is 24h\n",
    "a,b = np.diff(ys[2:]) # first differences from 7 Nov\n",
    "c = np.diff(ys[2:],2) # second differences from 7 Nov\n",
    "c = c[0] # from array to scalar\n",
    "y1,y2,y3 = ys[2:] # y's from 7 Nov\n",
    "print (\"Y: \",y2 + (n/2) * (a+b+n*c))"
   ]
  },
  {
   "cell_type": "markdown",
   "metadata": {
    "ExecuteTime": {
     "end_time": "2020-04-15T17:39:26.809226Z",
     "start_time": "2020-04-15T17:39:26.794680Z"
    }
   },
   "source": [
    "If the tabulated function reaches an extremum (maximun or minimun), this can be found with the formulae:\n",
    "\n",
    "ym = y2 - (np.square(a+b)/(8*c))\n",
    "\n",
    "nm = - (a + b)/(2*c) in units of the tabular interval from the central value x2"
   ]
  },
  {
   "cell_type": "code",
   "execution_count": 80,
   "metadata": {
    "ExecuteTime": {
     "end_time": "2020-04-15T18:11:46.480347Z",
     "start_time": "2020-04-15T18:11:46.462284Z"
    }
   },
   "outputs": [
    {
     "name": "stdout",
     "output_type": "stream",
     "text": [
      "X min:[16.39659629], Y min:[1.38120305], N min:[0.39659629]\n"
     ]
    }
   ],
   "source": [
    "# Calculate the time of passage of Mars through the perihelion  in May\n",
    "# 1992 and the value of its radus vector at that instant. The \n",
    "# Sun-Mars distance have been calculated at intervasl of 4 days\n",
    "xs = np.array([12.,16.,20.])  # days\n",
    "ys = np.array([1.3814294, 1.3812213, 1.3812453]) # distance\n",
    "x1,x2,x3 = xs\n",
    "y1,y2,y3 = ys \n",
    "a,b = np.diff(ys) # first differences \n",
    "c = np.diff(ys,2) # second differences\n",
    "\n",
    "ym = y2 - ((a+b)*(a+b)/(8*c))\n",
    "nm = - (a + b)/(2*c) \n",
    "print (f'X min:{x2+nm}, Y min:{ym}, N min:{nm}') \n"
   ]
  },
  {
   "cell_type": "code",
   "execution_count": 89,
   "metadata": {
    "ExecuteTime": {
     "end_time": "2020-04-15T18:18:49.548715Z",
     "start_time": "2020-04-15T18:18:49.534518Z"
    }
   },
   "outputs": [
    {
     "name": "stdout",
     "output_type": "stream",
     "text": [
      "X min:16.8, Y min:1.3812261\n"
     ]
    }
   ],
   "source": [
    "# Using  general interporlation\n",
    "f_linear = interp1d(xs,ys,'slinear') # the interpolation function\n",
    "xsg = np.linspace(12.,20.,6) # a grid for the x\n",
    "ysg = f_linear(xsg) # Obtain the y's evaluated in the grid\n",
    "y_min = np.min(ysg)\n",
    "x_min = xsg[np.argmin(ysg)]\n",
    "print (f'X min:{x_min}, Y min:{y_min}') \n"
   ]
  },
  {
   "cell_type": "markdown",
   "metadata": {
    "ExecuteTime": {
     "end_time": "2020-04-15T18:06:53.751819Z",
     "start_time": "2020-04-15T18:06:53.737651Z"
    }
   },
   "source": [
    "The value of the argument x for which the function y becomes zero can be found by:\n",
    "n0 = -2*y2/(a+b+c*n0)\n",
    "This equation can be solved by first putting n=0 in the second member and doing interations until n0 does not varies between two iterations.\n"
   ]
  },
  {
   "cell_type": "code",
   "execution_count": 21,
   "metadata": {
    "ExecuteTime": {
     "end_time": "2020-04-16T17:52:20.623986Z",
     "start_time": "2020-04-16T17:52:20.608755Z"
    }
   },
   "outputs": [],
   "source": [
    "def f_n0 (y2,a,b,c,n0):\n",
    "    return -2*y2/(a+b+c*n0)\n",
    "def resolve_n0(y2,a,b,c):\n",
    "    n0 = 0\n",
    "    for x in range(100):\n",
    "        new_n0 = f_n0(y2,a,b,c,n0)\n",
    "        print (new_n0) \n",
    "        if np.isclose(new_n0,n0):\n",
    "            print (\"Converged\")\n",
    "            return new_n0\n",
    "        n0 = new_n0\n",
    "    print (\"NOT converged\")\n",
    "    return new_n0\n",
    "    \n",
    "        "
   ]
  },
  {
   "cell_type": "code",
   "execution_count": 30,
   "metadata": {
    "ExecuteTime": {
     "end_time": "2020-04-16T18:06:05.342442Z",
     "start_time": "2020-04-16T18:06:05.330351Z"
    }
   },
   "outputs": [],
   "source": [
    "def ddmmss2seg(dg,arm=0,ars=0,sign=\"+\"):\n",
    "    value = dg*3600 + arm*60 + ars\n",
    "    return value if sign==\"+\" else -value \n",
    "\n",
    "def decimaldays2dayhhmmss(ddays):\n",
    "    dhours,days = np.modf(ddays)\n",
    "    dminutes, hours = np.modf(dhours*24)\n",
    "    dseconds, minutes = np.modf(dminutes*60)\n",
    "    return f'Day:{int(days)} at {int(hours)}h {int(minutes)}m {int(dseconds)}s'\n",
    "\n",
    "    "
   ]
  },
  {
   "cell_type": "code",
   "execution_count": 145,
   "metadata": {
    "ExecuteTime": {
     "end_time": "2020-04-15T19:12:02.544320Z",
     "start_time": "2020-04-15T19:12:02.525436Z"
    }
   },
   "outputs": [
    {
     "name": "stdout",
     "output_type": "stream",
     "text": [
      "Converged\n",
      "Declination is 0 for Day:26 at 19h 10m 0s\n"
     ]
    }
   ],
   "source": [
    "# Pag 26 Given the following values for the declination of Mercury,\n",
    "# calculate when the planet's declination is zero.\n",
    "# We pass all the quantities to seconds for doing the differences\n",
    "xs = np.array([26.,27.,28.])  # days\n",
    "x1,x2,x3 = xs\n",
    "y1 = ddmmss2seg(0,28,13.4,\"-\")\n",
    "y2 = ddmmss2seg(0,6,46.3)\n",
    "y3 = ddmmss2seg(0,38,23.2)\n",
    "ys = np.array([y1,y2,y3]) # declinations\n",
    "a,b = np.diff(ys) # first differences \n",
    "c = np.diff(ys,2) # second differences\n",
    "n= resolve_n0(y2,a,b,c)[0] # n is the delta with respect x2\n",
    "print (f'Declination is 0 for {decimaldays2dayhhmmss(x2+n)}')\n",
    "\n"
   ]
  },
  {
   "cell_type": "markdown",
   "metadata": {},
   "source": [
    "The problem with the above approach is that only works with the function does not have much curvature. If that is the case the following formulae is better:\n",
    "\n",
    "n0 = -(2*y2+n0(a+b+c*n0)/(a+b+2*c*n0)"
   ]
  },
  {
   "cell_type": "code",
   "execution_count": 26,
   "metadata": {
    "ExecuteTime": {
     "end_time": "2020-04-16T17:54:52.449938Z",
     "start_time": "2020-04-16T17:54:52.435065Z"
    }
   },
   "outputs": [],
   "source": [
    "def f2_n0 (y2,a,b,c,n0):\n",
    "    return -(2*y2+(n0*(a+b+c*n0)))/(a+b+2*c*n0)\n",
    "\n",
    "def resolve2_n0(y2,a,b,c):\n",
    "    n0 = 0\n",
    "    for x in range(10):\n",
    "        new_n0 = f2_n0(y2,a,b,c,n0)\n",
    "        print (new_n0) \n",
    "        if np.isclose(new_n0,n0):\n",
    "            print (\"Converged\")\n",
    "            return new_n0\n",
    "        n0 = new_n0\n",
    "    print (\"NOT converged\")\n",
    "    return new_n0\n",
    "    "
   ]
  },
  {
   "cell_type": "code",
   "execution_count": 27,
   "metadata": {
    "ExecuteTime": {
     "end_time": "2020-04-16T17:54:55.256149Z",
     "start_time": "2020-04-16T17:54:55.239528Z"
    }
   },
   "outputs": [
    {
     "name": "stdout",
     "output_type": "stream",
     "text": [
      "[-1.5]\n",
      "[0.61363636]\n",
      "[1.84183047]\n",
      "[-0.38596444]\n",
      "[-0.41270935]\n",
      "[-0.37164859]\n",
      "[-0.43555131]\n",
      "[-0.33810503]\n",
      "[-0.49169193]\n",
      "[-0.26086743]\n",
      "NOT converged\n",
      "-0.2608674257484742\n"
     ]
    }
   ],
   "source": [
    "xs = np.array([-1.,0.,1.])  # days\n",
    "x1,x2,x3 = xs\n",
    "y1 = -2.\n",
    "y2 = 3.\n",
    "y3 = 2.\n",
    "ys = np.array([y1,y2,y3]) # declinations\n",
    "a,b = np.diff(ys) # first differences \n",
    "c = np.diff(ys,2) # second differences\n",
    "n= resolve2_n0(y2,a,b,c)[0] # n is the delta with respect x2\n",
    "print (n)\n"
   ]
  },
  {
   "cell_type": "markdown",
   "metadata": {
    "ExecuteTime": {
     "end_time": "2020-04-16T17:55:18.557513Z",
     "start_time": "2020-04-16T17:55:18.549420Z"
    }
   },
   "source": [
    "### Five Tabular  values (x1,x2,x3,x4,x5)"
   ]
  },
  {
   "cell_type": "markdown",
   "metadata": {},
   "source": [
    "When the third differences may not be neglected, more than three values must be used. Use 5 five values and follows the same procedure as before but with different formulae"
   ]
  },
  {
   "cell_type": "code",
   "execution_count": 33,
   "metadata": {
    "ExecuteTime": {
     "end_time": "2020-04-16T18:07:54.691219Z",
     "start_time": "2020-04-16T18:07:54.670746Z"
    }
   },
   "outputs": [
    {
     "name": "stdout",
     "output_type": "stream",
     "text": [
      "First order difference  :  [-11.519  -9.12   -6.792  -4.561]\n",
      "Second order difference :  [2.399 2.328 2.231]\n",
      "Third order difference  :  [-0.071 -0.097]\n",
      "Fourth order difference  :  [-0.026]\n"
     ]
    }
   ],
   "source": [
    "# See the formules at pag 28\n",
    "xs = np.array([27.,27.5,28.,28.5,29])\n",
    "y1 = ddmmss2seg(0,54,36.125)\n",
    "y2 = ddmmss2seg(0,54,24.606)\n",
    "y3 = ddmmss2seg(0,54,15.486)\n",
    "y4 = ddmmss2seg(0,54,08.694)\n",
    "y5 = ddmmss2seg(0,54,04.133)\n",
    "ys = np.array([y1,y2,y3,y4,y5])\n",
    "\n",
    "print(\"First order difference  : \", np.diff(ys)) \n",
    "print(\"Second order difference : \", np.diff(ys, n = 2)) \n",
    "print(\"Third order difference  : \", np.diff(ys, n = 3))\n",
    "print(\"Fourth order difference  : \", np.diff(ys, n = 4))\n"
   ]
  },
  {
   "cell_type": "markdown",
   "metadata": {},
   "source": [
    "The third differences may not be neglected unless an accuracy of 0\".1 is suficcient."
   ]
  },
  {
   "cell_type": "markdown",
   "metadata": {},
   "source": [
    "When interpolating times and right ascensions it is important to remark they hum to zero when the value of 24 hours is reached. For this purpose, it may be needed to transfomr 0h 01m 00.71 to 24h 01m and so on."
   ]
  },
  {
   "cell_type": "markdown",
   "metadata": {},
   "source": [
    "As much as possible, avoid making and interpolation for |n| > 0.5 "
   ]
  },
  {
   "cell_type": "markdown",
   "metadata": {},
   "source": [
    "### Interpolation with unequally-spaced abcissae (Lagrange's interpolation formula)\n"
   ]
  },
  {
   "cell_type": "code",
   "execution_count": 68,
   "metadata": {
    "ExecuteTime": {
     "end_time": "2020-04-16T18:47:58.151794Z",
     "start_time": "2020-04-16T18:47:58.132956Z"
    }
   },
   "outputs": [
    {
     "name": "stdout",
     "output_type": "stream",
     "text": [
      "Sin (0) : 1.264079037355259e-05\n",
      "Sin (90) : 1.0011157543544058\n"
     ]
    }
   ],
   "source": [
    "from scipy.interpolate import lagrange\n",
    "from numpy.polynomial.polynomial import Polynomial\n",
    "\n",
    "xs = np.deg2rad(np.array([29.43, 30.97,27.69,28.11,31.58,33.05]))\n",
    "ys = np.sin(xs) #\n",
    "poly = lagrange(xs, ys)\n",
    "print (\"Sin (0) :\",poly(np.deg2rad(0)))\n",
    "print (\"Sin (90) :\",poly(np.deg2rad(90)))\n",
    "\n"
   ]
  },
  {
   "cell_type": "code",
   "execution_count": 52,
   "metadata": {
    "ExecuteTime": {
     "end_time": "2020-04-16T18:38:45.635675Z",
     "start_time": "2020-04-16T18:38:45.603549Z"
    }
   },
   "outputs": [
    {
     "data": {
      "text/plain": [
       "array([0.46468751, 0.47116583, 0.49135985, 0.51458919, 0.52368857,\n",
       "       0.54537071])"
      ]
     },
     "execution_count": 52,
     "metadata": {},
     "output_type": "execute_result"
    }
   ],
   "source": [
    "ys"
   ]
  },
  {
   "cell_type": "code",
   "execution_count": 64,
   "metadata": {
    "ExecuteTime": {
     "end_time": "2020-04-16T18:43:42.721336Z",
     "start_time": "2020-04-16T18:43:42.303329Z"
    }
   },
   "outputs": [
    {
     "data": {
      "text/plain": [
       "Text(0, 0.5, 'Y')"
      ]
     },
     "execution_count": 64,
     "metadata": {},
     "output_type": "execute_result"
    },
    {
     "data": {
      "image/png": "[encoded data removed]",
      "text/plain": [
       "<Figure size 432x288 with 1 Axes>"
      ]
     },
     "metadata": {
      "needs_background": "light"
     },
     "output_type": "display_data"
    }
   ],
   "source": [
    "# plot results to illustrate\n",
    "xsg = np.deg2rad(np.linspace(0.,90,100))\n",
    "ysg = poly(xsg)\n",
    "pl.ion()\n",
    "pl.plot(xsg,ysg,'bo',markersize=5)\n",
    "#pl.plot(xs,ys,'g')\n",
    "pl.legend(['Data','Linear','Exact'],loc='best')\n",
    "pl.xlabel('X')\n",
    "pl.ylabel('Y')"
   ]
  },
  {
   "cell_type": "code",
   "execution_count": null,
   "metadata": {},
   "outputs": [],
   "source": []
  },
  {
   "cell_type": "markdown",
   "metadata": {},
   "source": [
    "#### Using general interpolation function"
   ]
  },
  {
   "cell_type": "code",
   "execution_count": null,
   "metadata": {},
   "outputs": [],
   "source": []
  },
  {
   "cell_type": "code",
   "execution_count": 31,
   "metadata": {
    "ExecuteTime": {
     "end_time": "2020-04-14T18:26:46.073683Z",
     "start_time": "2020-04-14T18:26:45.919665Z"
    }
   },
   "outputs": [],
   "source": [
    "import matplotlib.pyplot as pl\n",
    "\n",
    "from scipy.interpolate import interp1d\n",
    "\n",
    "# linearly interpolate\n",
    "x = np.linspace(0.,10.,201)\n",
    "x = np.array([8.18125])\n",
    "\n",
    "# linearly interpolate\n",
    "linear = interp1d(xs,ys,'linear')\n",
    "slinear = interp1d(xs,ys,'quadratic')\n",
    "#Specifies the kind of interpolation as a string (‘linear’, ‘nearest’, ‘zero’, ‘slinear’, ‘quadratic’, ‘cubic’, ‘previous’, ‘next’, where ‘zero’, ‘slinear’, ‘quadratic’ and ‘cubic’ refer to a spline interpolation of zeroth, first, second or third order; ‘previous’ and ‘next’ simply return the previous or next value of the point) \n",
    "# apply and create new array\n",
    "y_linear = linear(x)\n",
    "y_slinear = slinear(x)"
   ]
  },
  {
   "cell_type": "code",
   "execution_count": 32,
   "metadata": {
    "ExecuteTime": {
     "end_time": "2020-04-14T18:26:47.019980Z",
     "start_time": "2020-04-14T18:26:46.712021Z"
    }
   },
   "outputs": [
    {
     "data": {
      "text/plain": [
       "Text(0, 0.5, 'Y')"
      ]
     },
     "execution_count": 32,
     "metadata": {},
     "output_type": "execute_result"
    },
    {
     "data": {
      "image/png": "[encoded data removed]",
      "text/plain": [
       "<Figure size 432x288 with 1 Axes>"
      ]
     },
     "metadata": {
      "needs_background": "light"
     },
     "output_type": "display_data"
    }
   ],
   "source": [
    "# plot results to illustrate\n",
    "pl.ion()\n",
    "pl.plot(xs,ys,'bo',markersize=20)\n",
    "pl.plot(x,y_linear,'r')\n",
    "pl.plot(x,y_slinear,'r')\n",
    "pl.plot(xs,ys,'g')\n",
    "pl.legend(['Data','Linear','Exact'],loc='best')\n",
    "pl.xlabel('X')\n",
    "pl.ylabel('Y')"
   ]
  },
  {
   "cell_type": "code",
   "execution_count": 34,
   "metadata": {
    "ExecuteTime": {
     "end_time": "2020-04-14T18:48:31.721409Z",
     "start_time": "2020-04-14T18:48:31.712033Z"
    }
   },
   "outputs": [],
   "source": [
    "# Distance Sun - Mars in UA for 4 days intervals\n",
    "xs = np.array([12.,16.,20.])\n",
    "ys = np.array([1.3814294,1.3812213,1.3812453])"
   ]
  },
  {
   "cell_type": "code",
   "execution_count": 88,
   "metadata": {
    "ExecuteTime": {
     "end_time": "2020-04-15T18:18:25.636452Z",
     "start_time": "2020-04-15T18:18:25.366952Z"
    }
   },
   "outputs": [
    {
     "data": {
      "text/plain": [
       "Text(0, 0.5, 'Y')"
      ]
     },
     "execution_count": 88,
     "metadata": {},
     "output_type": "execute_result"
    },
    {
     "data": {
      "image/png": "[encoded data removed]",
      "text/plain": [
       "<Figure size 432x288 with 1 Axes>"
      ]
     },
     "metadata": {
      "needs_background": "light"
     },
     "output_type": "display_data"
    }
   ],
   "source": [
    "# plot results to illustrate\n",
    "pl.ion()\n",
    "pl.plot(xsg,ysg,'bo',markersize=5)\n",
    "#pl.plot(xs,ys,'g')\n",
    "pl.legend(['Data','Linear','Exact'],loc='best')\n",
    "pl.xlabel('X')\n",
    "pl.ylabel('Y')"
   ]
  },
  {
   "cell_type": "code",
   "execution_count": null,
   "metadata": {},
   "outputs": [],
   "source": []
  },
  {
   "cell_type": "code",
   "execution_count": null,
   "metadata": {},
   "outputs": [],
   "source": []
  }
 ],
 "metadata": {
  "kernelspec": {
   "display_name": "base",
   "language": "python",
   "name": "base"
  },
  "language_info": {
   "codemirror_mode": {
    "name": "ipython",
    "version": 3
   },
   "file_extension": ".py",
   "mimetype": "text/x-python",
   "name": "python",
   "nbconvert_exporter": "python",
   "pygments_lexer": "ipython3",
   "version": "3.7.7"
  }
 },
 "nbformat": 4,
 "nbformat_minor": 4
}
