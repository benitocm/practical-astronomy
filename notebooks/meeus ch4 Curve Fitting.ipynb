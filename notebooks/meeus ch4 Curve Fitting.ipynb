{
 "cells": [
  {
   "cell_type": "code",
   "execution_count": 4,
   "metadata": {
    "ExecuteTime": {
     "end_time": "2020-04-18T11:29:34.731870Z",
     "start_time": "2020-04-18T11:29:08.987095Z"
    }
   },
   "outputs": [],
   "source": [
    "%matplotlib inline\n",
    "import matplotlib.pyplot as plt\n",
    "import seaborn as sns; sns.set()\n",
    "import numpy as np\n",
    "import pandas as pd\n"
   ]
  },
  {
   "cell_type": "markdown",
   "metadata": {},
   "source": [
    "### Linear Curve fitting"
   ]
  },
  {
   "cell_type": "markdown",
   "metadata": {},
   "source": [
    "Find the relation between the intrinsic brightness of a comet $m$ and its distance to the Sun. The apararent magnitude $m$ of a comet can generally be represented by a formula:\n",
    "\n",
    "$$m = g + 5 log \\Delta + \\kappa log r$$\n",
    "\n",
    "where :\n",
    "\n",
    "$\\Delta$ is the distance (AU) from the comet to the Earth\n",
    "\n",
    "$r$ is the distance (AU) from the comet to the Sun\n",
    "\n",
    "$log$ is in base 10\n",
    "\n",
    "$g$ is the absolute magintude\n",
    "\n",
    "$\\kappa$ coefficient\n",
    "\n",
    "The $g$ and $\\kappa$  must be deduced from the observations. This can be performed when the magnitued $m$ has been measured during a sufficiently long period. More precisely, the range of $r$ should be sufficiently large. \n",
    "\n",
    "The unknowns are $g$ and $\\kappa$ so the formula above can be written as:\n",
    "\n",
    "$$m -5 log \\Delta  = g + \\kappa log r$$\n",
    "\n",
    "$$ y =  a + b x $$\n",
    "\n",
    "where :\n",
    "\n",
    "$a$ = g \n",
    "\n",
    "$b$ = $\\kappa$\n",
    "\n",
    "$x$ = $log r$\n",
    "\n",
    "\n",
    "\n",
    "The following table contains visual magnitudes estimates m of the periodic comet Wild 2 (1978). The corresponding values of $r$ an $\\Delta$ have been calculated from orbital elements.\n"
   ]
  },
  {
   "cell_type": "code",
   "execution_count": 23,
   "metadata": {
    "ExecuteTime": {
     "end_time": "2020-04-18T11:42:42.110086Z",
     "start_time": "2020-04-18T11:42:42.102562Z"
    }
   },
   "outputs": [],
   "source": [
    "# Standard library imports\n",
    "from pathlib import Path\n",
    "import pathlib"
   ]
  },
  {
   "cell_type": "code",
   "execution_count": 24,
   "metadata": {
    "ExecuteTime": {
     "end_time": "2020-04-18T11:42:42.882199Z",
     "start_time": "2020-04-18T11:42:42.852347Z"
    }
   },
   "outputs": [
    {
     "data": {
      "text/html": [
       "<div>\n",
       "<style scoped>\n",
       "    .dataframe tbody tr th:only-of-type {\n",
       "        vertical-align: middle;\n",
       "    }\n",
       "\n",
       "    .dataframe tbody tr th {\n",
       "        vertical-align: top;\n",
       "    }\n",
       "\n",
       "    .dataframe thead th {\n",
       "        text-align: right;\n",
       "    }\n",
       "</style>\n",
       "<table border=\"1\" class=\"dataframe\">\n",
       "  <thead>\n",
       "    <tr style=\"text-align: right;\">\n",
       "      <th></th>\n",
       "      <th>month</th>\n",
       "      <th>ut</th>\n",
       "      <th>m</th>\n",
       "      <th>r</th>\n",
       "      <th>A</th>\n",
       "      <th>x</th>\n",
       "      <th>y</th>\n",
       "    </tr>\n",
       "  </thead>\n",
       "  <tbody>\n",
       "    <tr>\n",
       "      <th>0</th>\n",
       "      <td>Febr</td>\n",
       "      <td>4.01</td>\n",
       "      <td>11.4</td>\n",
       "      <td>1.987</td>\n",
       "      <td>1.249</td>\n",
       "      <td>0.2982</td>\n",
       "      <td>10.92</td>\n",
       "    </tr>\n",
       "    <tr>\n",
       "      <th>1</th>\n",
       "      <td>Febr</td>\n",
       "      <td>5.00</td>\n",
       "      <td>11.5</td>\n",
       "      <td>1.981</td>\n",
       "      <td>1.252</td>\n",
       "      <td>0.2969</td>\n",
       "      <td>11.01</td>\n",
       "    </tr>\n",
       "    <tr>\n",
       "      <th>2</th>\n",
       "      <td>Febr</td>\n",
       "      <td>9.02</td>\n",
       "      <td>11.5</td>\n",
       "      <td>1.958</td>\n",
       "      <td>1.266</td>\n",
       "      <td>0.2918</td>\n",
       "      <td>10.99</td>\n",
       "    </tr>\n",
       "    <tr>\n",
       "      <th>3</th>\n",
       "      <td>Febr</td>\n",
       "      <td>10.02</td>\n",
       "      <td>11.3</td>\n",
       "      <td>1.952</td>\n",
       "      <td>1.270</td>\n",
       "      <td>0.2905</td>\n",
       "      <td>10.78</td>\n",
       "    </tr>\n",
       "    <tr>\n",
       "      <th>4</th>\n",
       "      <td>Febr</td>\n",
       "      <td>25.03</td>\n",
       "      <td>11.5</td>\n",
       "      <td>1.865</td>\n",
       "      <td>1.335</td>\n",
       "      <td>0.2707</td>\n",
       "      <td>10.77</td>\n",
       "    </tr>\n",
       "  </tbody>\n",
       "</table>\n",
       "</div>"
      ],
      "text/plain": [
       "  month     ut     m      r      A       x      y\n",
       "0  Febr   4.01  11.4  1.987  1.249  0.2982  10.92\n",
       "1  Febr   5.00  11.5  1.981  1.252  0.2969  11.01\n",
       "2  Febr   9.02  11.5  1.958  1.266  0.2918  10.99\n",
       "3  Febr  10.02  11.3  1.952  1.270  0.2905  10.78\n",
       "4  Febr  25.03  11.5  1.865  1.335  0.2707  10.77"
      ]
     },
     "execution_count": 24,
     "metadata": {},
     "output_type": "execute_result"
    }
   ],
   "source": [
    "fp = pathlib.Path.cwd().joinpath('../data/table4a.csv')\n",
    "df = pd.read_csv(fp,sep='|',header=0)\n",
    "df.head()"
   ]
  },
  {
   "cell_type": "code",
   "execution_count": 28,
   "metadata": {
    "ExecuteTime": {
     "end_time": "2020-04-18T11:44:21.692469Z",
     "start_time": "2020-04-18T11:44:21.251576Z"
    }
   },
   "outputs": [
    {
     "data": {
      "text/plain": [
       "Text(0, 0.5, 'y')"
      ]
     },
     "execution_count": 28,
     "metadata": {},
     "output_type": "execute_result"
    },
    {
     "data": {
      "image/png": "[encoded data removed]",
      "text/plain": [
       "<Figure size 432x288 with 1 Axes>"
      ]
     },
     "metadata": {},
     "output_type": "display_data"
    }
   ],
   "source": [
    "x = df['x'].to_numpy()\n",
    "#x = df['m'].to_numpy()\n",
    "y = df['y'].to_numpy()\n",
    "plt.scatter(x, y);\n",
    "plt.xlabel('Log of the distance to the Sun')\n",
    "plt.ylabel('y')\n",
    "\n"
   ]
  },
  {
   "cell_type": "code",
   "execution_count": 29,
   "metadata": {
    "ExecuteTime": {
     "end_time": "2020-04-18T11:44:23.344258Z",
     "start_time": "2020-04-18T11:44:22.776559Z"
    }
   },
   "outputs": [
    {
     "data": {
      "image/png": "[encoded data removed]",
      "text/plain": [
       "<Figure size 432x288 with 1 Axes>"
      ]
     },
     "metadata": {},
     "output_type": "display_data"
    }
   ],
   "source": [
    "from sklearn.linear_model import LinearRegression\n",
    "from sklearn.metrics import mean_squared_error, r2_score\n",
    "model = LinearRegression(fit_intercept=True)\n",
    "\n",
    "# x[:,np.newaxis] --> add a new column to 0 because the api needs 2D vector\n",
    "model.fit(x[:, np.newaxis], y)\n",
    "\n",
    "xfit = np.linspace(0.16, 0.3, 50)\n",
    "yfit = model.predict(xfit[:, np.newaxis])\n",
    "\n",
    "plt.scatter(x, y)\n",
    "plt.plot(xfit, yfit);"
   ]
  },
  {
   "cell_type": "code",
   "execution_count": 30,
   "metadata": {
    "ExecuteTime": {
     "end_time": "2020-04-18T11:44:23.408563Z",
     "start_time": "2020-04-18T11:44:23.391864Z"
    }
   },
   "outputs": [
    {
     "name": "stdout",
     "output_type": "stream",
     "text": [
      "Slope:     13.55184759736974\n",
      "Intercept: 7.049016650497833\n",
      "Correlation coeficient:  0.9485558436372301\n"
     ]
    }
   ],
   "source": [
    "print(\"Slope:    \", model.coef_[0])\n",
    "print(\"Intercept:\", model.intercept_)\n",
    "print(\"Correlation coeficient: \", model.score(x[:, np.newaxis], y))\n"
   ]
  },
  {
   "cell_type": "markdown",
   "metadata": {},
   "source": [
    "Hence, the periodic comet Wild 2 in 1978, we have:\n",
    "\n",
    "$$ m = 7.04 + 5 log_{10}\\kappa + 13.55 log_{10} r $$"
   ]
  },
  {
   "cell_type": "markdown",
   "metadata": {},
   "source": [
    "Next able gives for each the twenty-two sunspot maxima which have ocurred from 1761 to 1989, the time interval x, in months, since the previous minimum and the heigth y of the maximum (highest smoothed montly mean)"
   ]
  },
  {
   "cell_type": "code",
   "execution_count": 32,
   "metadata": {
    "ExecuteTime": {
     "end_time": "2020-04-18T11:48:21.856936Z",
     "start_time": "2020-04-18T11:48:21.825857Z"
    }
   },
   "outputs": [
    {
     "data": {
      "text/html": [
       "<div>\n",
       "<style scoped>\n",
       "    .dataframe tbody tr th:only-of-type {\n",
       "        vertical-align: middle;\n",
       "    }\n",
       "\n",
       "    .dataframe tbody tr th {\n",
       "        vertical-align: top;\n",
       "    }\n",
       "\n",
       "    .dataframe thead th {\n",
       "        text-align: right;\n",
       "    }\n",
       "</style>\n",
       "<table border=\"1\" class=\"dataframe\">\n",
       "  <thead>\n",
       "    <tr style=\"text-align: right;\">\n",
       "      <th></th>\n",
       "      <th>epoch</th>\n",
       "      <th>x</th>\n",
       "      <th>y</th>\n",
       "    </tr>\n",
       "  </thead>\n",
       "  <tbody>\n",
       "    <tr>\n",
       "      <th>0</th>\n",
       "      <td>1761 June</td>\n",
       "      <td>73</td>\n",
       "      <td>90.4</td>\n",
       "    </tr>\n",
       "    <tr>\n",
       "      <th>1</th>\n",
       "      <td>1769 Oct</td>\n",
       "      <td>38</td>\n",
       "      <td>125.3</td>\n",
       "    </tr>\n",
       "    <tr>\n",
       "      <th>2</th>\n",
       "      <td>1778 May</td>\n",
       "      <td>35</td>\n",
       "      <td>161.8</td>\n",
       "    </tr>\n",
       "    <tr>\n",
       "      <th>3</th>\n",
       "      <td>1787 Nov</td>\n",
       "      <td>42</td>\n",
       "      <td>143.4</td>\n",
       "    </tr>\n",
       "    <tr>\n",
       "      <th>4</th>\n",
       "      <td>1804 Dic</td>\n",
       "      <td>78</td>\n",
       "      <td>52.5</td>\n",
       "    </tr>\n",
       "    <tr>\n",
       "      <th>5</th>\n",
       "      <td>1816 Mar</td>\n",
       "      <td>68</td>\n",
       "      <td>50.8</td>\n",
       "    </tr>\n",
       "    <tr>\n",
       "      <th>6</th>\n",
       "      <td>1829 June</td>\n",
       "      <td>74</td>\n",
       "      <td>71.5</td>\n",
       "    </tr>\n",
       "    <tr>\n",
       "      <th>7</th>\n",
       "      <td>1837 Feb</td>\n",
       "      <td>42</td>\n",
       "      <td>152.8</td>\n",
       "    </tr>\n",
       "    <tr>\n",
       "      <th>8</th>\n",
       "      <td>1847 Nov</td>\n",
       "      <td>52</td>\n",
       "      <td>131.3</td>\n",
       "    </tr>\n",
       "    <tr>\n",
       "      <th>9</th>\n",
       "      <td>1860 Jul</td>\n",
       "      <td>54</td>\n",
       "      <td>98.5</td>\n",
       "    </tr>\n",
       "  </tbody>\n",
       "</table>\n",
       "</div>"
      ],
      "text/plain": [
       "       epoch   x      y\n",
       "0  1761 June  73   90.4\n",
       "1   1769 Oct  38  125.3\n",
       "2   1778 May  35  161.8\n",
       "3   1787 Nov  42  143.4\n",
       "4   1804 Dic  78   52.5\n",
       "5   1816 Mar  68   50.8\n",
       "6  1829 June  74   71.5\n",
       "7   1837 Feb  42  152.8\n",
       "8   1847 Nov  52  131.3\n",
       "9   1860 Jul  54   98.5"
      ]
     },
     "execution_count": 32,
     "metadata": {},
     "output_type": "execute_result"
    }
   ],
   "source": [
    "fp = pathlib.Path.cwd().joinpath('../data/table4b.csv')\n",
    "df = pd.read_csv(fp,sep='|',header=0)\n",
    "df.head(10)"
   ]
  },
  {
   "cell_type": "code",
   "execution_count": 34,
   "metadata": {
    "ExecuteTime": {
     "end_time": "2020-04-18T11:50:53.727632Z",
     "start_time": "2020-04-18T11:50:53.375347Z"
    }
   },
   "outputs": [
    {
     "data": {
      "image/png": "[encoded data removed]",
      "text/plain": [
       "<Figure size 432x288 with 1 Axes>"
      ]
     },
     "metadata": {},
     "output_type": "display_data"
    }
   ],
   "source": [
    "x = df['x'].to_numpy()\n",
    "y = df['y'].to_numpy()\n",
    "plt.scatter(x, y);"
   ]
  },
  {
   "cell_type": "code",
   "execution_count": 35,
   "metadata": {
    "ExecuteTime": {
     "end_time": "2020-04-18T11:50:57.184544Z",
     "start_time": "2020-04-18T11:50:56.792673Z"
    }
   },
   "outputs": [
    {
     "data": {
      "image/png": "[encoded data removed]",
      "text/plain": [
       "<Figure size 432x288 with 1 Axes>"
      ]
     },
     "metadata": {},
     "output_type": "display_data"
    }
   ],
   "source": [
    "model = LinearRegression(fit_intercept=True)\n",
    "\n",
    "model.fit(x[:, np.newaxis], y)\n",
    "\n",
    "xfit = np.linspace(30, 80, 50)\n",
    "yfit = model.predict(xfit[:, np.newaxis])\n",
    "\n",
    "plt.scatter(x, y)\n",
    "plt.plot(xfit, yfit);"
   ]
  },
  {
   "cell_type": "code",
   "execution_count": 36,
   "metadata": {
    "ExecuteTime": {
     "end_time": "2020-04-18T11:50:58.771663Z",
     "start_time": "2020-04-18T11:50:58.755901Z"
    }
   },
   "outputs": [
    {
     "name": "stdout",
     "output_type": "stream",
     "text": [
      "Slope:     -2.493818375202594\n",
      "Intercept: 244.1807536466775\n"
     ]
    }
   ],
   "source": [
    "print(\"Slope:    \", model.coef_[0])\n",
    "print(\"Intercept:\", model.intercept_)\n",
    "#print(\"Correlation coeficient: \", model.score(x[:, np.newaxis], y))"
   ]
  },
  {
   "cell_type": "markdown",
   "metadata": {},
   "source": [
    "This shows that there exists an evident trend to connection and the negative sign indicates that the correlation between x and y is negative: the longer the duration of the rise from a minimun to the next maximum of the sunsport activity, the lower this maximum generally is."
   ]
  },
  {
   "cell_type": "code",
   "execution_count": 37,
   "metadata": {
    "ExecuteTime": {
     "end_time": "2020-04-18T11:51:10.918338Z",
     "start_time": "2020-04-18T11:51:10.841359Z"
    }
   },
   "outputs": [
    {
     "name": "stdout",
     "output_type": "stream",
     "text": [
      "Slope:     -2.493818375202594\n",
      "Intercept: 244.1807536466775\n",
      "Correlation Coeficient: -0.7673007641544571\n",
      "P value: 3.084421617092609e-05\n",
      "Stderr: 0.46605471203795074\n"
     ]
    }
   ],
   "source": [
    "#https://realpython.com/numpy-scipy-pandas-correlation-python/#example-numpy-correlation-calculation\n",
    "#https://jakevdp.github.io/PythonDataScienceHandbook/05.06-linear-regression.html\n",
    "import scipy.stats\n",
    "result = scipy.stats.linregress(x, y)\n",
    "print(\"Slope:    \", result.slope)\n",
    "print(\"Intercept:\", result.intercept)\n",
    "print(\"Correlation Coeficient:\", result.rvalue)\n",
    "print(\"P value:\", result.pvalue)\n",
    "print(\"Stderr:\", result.stderr)\n"
   ]
  },
  {
   "cell_type": "markdown",
   "metadata": {
    "ExecuteTime": {
     "end_time": "2020-04-18T08:02:20.120679Z",
     "start_time": "2020-04-18T08:02:20.106764Z"
    }
   },
   "source": [
    "### General curve fitting\n",
    "As linear regression \n",
    "https://www.astro.umass.edu/~schloerb/ph281/Lectures/LSQ_3/LSQ_3.pdf\n"
   ]
  },
  {
   "cell_type": "code",
   "execution_count": 38,
   "metadata": {
    "ExecuteTime": {
     "end_time": "2020-04-18T11:54:18.864851Z",
     "start_time": "2020-04-18T11:54:18.834414Z"
    }
   },
   "outputs": [
    {
     "data": {
      "text/html": [
       "<div>\n",
       "<style scoped>\n",
       "    .dataframe tbody tr th:only-of-type {\n",
       "        vertical-align: middle;\n",
       "    }\n",
       "\n",
       "    .dataframe tbody tr th {\n",
       "        vertical-align: top;\n",
       "    }\n",
       "\n",
       "    .dataframe thead th {\n",
       "        text-align: right;\n",
       "    }\n",
       "</style>\n",
       "<table border=\"1\" class=\"dataframe\">\n",
       "  <thead>\n",
       "    <tr style=\"text-align: right;\">\n",
       "      <th></th>\n",
       "      <th>degrees</th>\n",
       "      <th>y</th>\n",
       "    </tr>\n",
       "  </thead>\n",
       "  <tbody>\n",
       "    <tr>\n",
       "      <th>0</th>\n",
       "      <td>3</td>\n",
       "      <td>0.0433</td>\n",
       "    </tr>\n",
       "    <tr>\n",
       "      <th>1</th>\n",
       "      <td>20</td>\n",
       "      <td>0.2532</td>\n",
       "    </tr>\n",
       "    <tr>\n",
       "      <th>2</th>\n",
       "      <td>34</td>\n",
       "      <td>0.3386</td>\n",
       "    </tr>\n",
       "    <tr>\n",
       "      <th>3</th>\n",
       "      <td>50</td>\n",
       "      <td>0.3560</td>\n",
       "    </tr>\n",
       "    <tr>\n",
       "      <th>4</th>\n",
       "      <td>75</td>\n",
       "      <td>0.4983</td>\n",
       "    </tr>\n",
       "  </tbody>\n",
       "</table>\n",
       "</div>"
      ],
      "text/plain": [
       "   degrees       y\n",
       "0        3  0.0433\n",
       "1       20  0.2532\n",
       "2       34  0.3386\n",
       "3       50  0.3560\n",
       "4       75  0.4983"
      ]
     },
     "execution_count": 38,
     "metadata": {},
     "output_type": "execute_result"
    }
   ],
   "source": [
    "fp = pathlib.Path.cwd().joinpath('../data/table4c.csv')\n",
    "df = pd.read_csv(fp,sep='|',header=0)\n",
    "df.head()"
   ]
  },
  {
   "cell_type": "code",
   "execution_count": 39,
   "metadata": {
    "ExecuteTime": {
     "end_time": "2020-04-18T11:54:19.983149Z",
     "start_time": "2020-04-18T11:54:19.599239Z"
    }
   },
   "outputs": [
    {
     "data": {
      "image/png": "[encoded data removed]",
      "text/plain": [
       "<Figure size 432x288 with 1 Axes>"
      ]
     },
     "metadata": {},
     "output_type": "display_data"
    }
   ],
   "source": [
    "x = df['degrees'].to_numpy()\n",
    "y = df['y'].to_numpy()\n",
    "plt.scatter(x, y);"
   ]
  },
  {
   "cell_type": "code",
   "execution_count": 40,
   "metadata": {
    "ExecuteTime": {
     "end_time": "2020-04-18T11:54:20.309200Z",
     "start_time": "2020-04-18T11:54:20.292637Z"
    }
   },
   "outputs": [],
   "source": [
    "f_1 = lambda x : np.sin(np.deg2rad(x))\n",
    "f_2 = lambda x : np.sin(2*np.deg2rad(x))\n",
    "f_3 = lambda x : np.sin(3*np.deg2rad(x))\n",
    "\n",
    "f = lambda x,a,b,c: a*f_1(x) + b*f_2(x) + c*f_3(x)\n",
    "\n",
    "# The linear regression is done using as a base f_1 f_2 f_3\n",
    "M = np.column_stack((f_1(x),f_2(x),f_3(x))) \n",
    "MTM = np.dot(M.transpose(),M)\n",
    "MTMINV = np.linalg.inv(MTM)\n",
    "MTY = np.dot(M.transpose(),y)\n",
    "c1,c2,c3 = np.dot(MTMINV,MTY) # SOLUTION\n"
   ]
  },
  {
   "cell_type": "code",
   "execution_count": 41,
   "metadata": {
    "ExecuteTime": {
     "end_time": "2020-04-18T11:54:21.694456Z",
     "start_time": "2020-04-18T11:54:21.256765Z"
    }
   },
   "outputs": [
    {
     "data": {
      "image/png": "[encoded data removed]",
      "text/plain": [
       "<Figure size 432x288 with 1 Axes>"
      ]
     },
     "metadata": {},
     "output_type": "display_data"
    },
    {
     "name": "stdout",
     "output_type": "stream",
     "text": [
      "original coefficients:  1.200, -0.770,  0.390\n"
     ]
    }
   ],
   "source": [
    "plt.plot(x,f(x,c1,c2,c3), '--', label='curve_fit')\n",
    "plt.plot(x,y, 'o', label='data')\n",
    "plt.xlabel('x')\n",
    "plt.ylabel('$f(x)$')\n",
    "plt.legend(fontsize=12)\n",
    "plt.show()\n",
    "print('original coefficients: %6.3f, %6.3f, %6.3f' %(c1,c2,c3))\n",
    "#print('fitted   coefficients: %6.3f, %6.3f, %6.3f' %(params[0], params[1], params[2]))"
   ]
  },
  {
   "cell_type": "code",
   "execution_count": 49,
   "metadata": {
    "ExecuteTime": {
     "end_time": "2020-04-18T08:06:04.746127Z",
     "start_time": "2020-04-18T08:06:04.226807Z"
    }
   },
   "outputs": [
    {
     "data": {
      "image/png": "[encoded data removed]",
      "text/plain": [
       "<Figure size 720x432 with 1 Axes>"
      ]
     },
     "metadata": {},
     "output_type": "display_data"
    },
    {
     "name": "stdout",
     "output_type": "stream",
     "text": [
      "fitted   coefficients:  1.200, -0.770,  0.390\n"
     ]
    }
   ],
   "source": [
    "# The same but using scipy.optimize\n",
    "from scipy.optimize import curve_fit\n",
    "\n",
    "plt.figure(figsize=[10, 6])\n",
    "\n",
    "#do the curve fit\n",
    "params, extras = curve_fit(f, x, y)\n",
    "plt.plot(x,y, 'o', label='data')\n",
    "plt.plot(x,f(x,params[0],params[1],params[2]), label='curve_fit')\n",
    "\n",
    "plt.xlabel('x')\n",
    "plt.ylabel('$f(x)$')\n",
    "#plt.xlim([x_min, x_max])\n",
    "plt.legend(fontsize=12)\n",
    "plt.show()\n",
    "#print('original coefficients: %6.3f, %6.3f, %6.3f' %(a,b,c))\n",
    "print('fitted   coefficients: %6.3f, %6.3f, %6.3f' %(params[0], params[1], params[2]))\n",
    "\n"
   ]
  },
  {
   "cell_type": "markdown",
   "metadata": {},
   "source": [
    "### Iteration"
   ]
  },
  {
   "cell_type": "code",
   "execution_count": 73,
   "metadata": {
    "ExecuteTime": {
     "end_time": "2020-04-18T08:29:23.230181Z",
     "start_time": "2020-04-18T08:29:23.221137Z"
    }
   },
   "outputs": [],
   "source": [
    "# General function to iterate functions of onw variable\n",
    "def do_iterations(f,x_0,n_iter=50):\n",
    "    x = x_0\n",
    "    for n in range(n_iter):\n",
    "        new_value = f(x)\n",
    "        if np.isclose(new_value,x):\n",
    "            return (1,new_value,n)\n",
    "        else :\n",
    "            x = new_value\n",
    "    return (0,new_value,n)\n",
    "    \n",
    "    do_iterations(f,0)"
   ]
  },
  {
   "cell_type": "code",
   "execution_count": 85,
   "metadata": {
    "ExecuteTime": {
     "end_time": "2020-04-18T08:40:49.074142Z",
     "start_time": "2020-04-18T08:40:49.054011Z"
    }
   },
   "outputs": [
    {
     "data": {
      "text/plain": [
       "(1, 1.3217860821189957, 8)"
      ]
     },
     "execution_count": 85,
     "metadata": {},
     "output_type": "execute_result"
    }
   ],
   "source": [
    "f = lambda x : np.power((8-3*x),0.2)\n",
    "do_iterations(f,0)\n"
   ]
  },
  {
   "cell_type": "code",
   "execution_count": 87,
   "metadata": {
    "ExecuteTime": {
     "end_time": "2020-04-18T08:41:39.058471Z",
     "start_time": "2020-04-18T08:41:39.042536Z"
    }
   },
   "outputs": [
    {
     "data": {
      "text/plain": [
       "(1, 0.4692498764760976, 3)"
      ]
     },
     "execution_count": 87,
     "metadata": {},
     "output_type": "execute_result"
    }
   ],
   "source": [
    "f = lambda x : 8/(np.power(x,4)+17)\n",
    "do_iterations(f,0)"
   ]
  },
  {
   "cell_type": "code",
   "execution_count": 91,
   "metadata": {
    "ExecuteTime": {
     "end_time": "2020-04-18T08:42:25.716118Z",
     "start_time": "2020-04-18T08:42:25.625296Z"
    }
   },
   "outputs": [
    {
     "data": {
      "text/plain": [
       "(0, 0.14943692676069634, 999)"
      ]
     },
     "execution_count": 91,
     "metadata": {},
     "output_type": "execute_result"
    }
   ],
   "source": [
    "f = lambda x : 8/(np.power(x,4)+3)\n",
    "do_iterations(f,0,1000)"
   ]
  },
  {
   "cell_type": "code",
   "execution_count": 80,
   "metadata": {
    "ExecuteTime": {
     "end_time": "2020-04-18T08:37:14.732759Z",
     "start_time": "2020-04-18T08:37:14.716258Z"
    }
   },
   "outputs": [
    {
     "data": {
      "text/plain": [
       "(1, 1.3217860821189957, 8)"
      ]
     },
     "execution_count": 80,
     "metadata": {},
     "output_type": "execute_result"
    }
   ],
   "source": [
    "do_iterations(f,0)"
   ]
  },
  {
   "cell_type": "code",
   "execution_count": 107,
   "metadata": {
    "ExecuteTime": {
     "end_time": "2020-04-18T09:05:45.949560Z",
     "start_time": "2020-04-18T09:05:45.933546Z"
    }
   },
   "outputs": [
    {
     "name": "stdout",
     "output_type": "stream",
     "text": [
      "xa:  0.46622052391077345\n",
      "x0:  0\n",
      "f(xa) =  0.0\n"
     ]
    }
   ],
   "source": [
    "# Using Newton-Ramson method\n",
    "from scipy.optimize import newton\n",
    "\n",
    "f = lambda x,W : x**3+3*x-W\n",
    "\n",
    "x0 = 0\n",
    "W = 1.5\n",
    "xa = newton(f, x0, fprime=None, args=(W,), tol=1.48e-08, maxiter=50, fprime2=None)\n",
    "\n",
    "print('xa: ', xa)\n",
    "print('x0: ', x0)\n",
    "print(\"f(xa) = \", f(xa,W))"
   ]
  },
  {
   "cell_type": "code",
   "execution_count": 106,
   "metadata": {
    "ExecuteTime": {
     "end_time": "2020-04-18T09:05:36.869705Z",
     "start_time": "2020-04-18T09:05:36.861261Z"
    }
   },
   "outputs": [],
   "source": [
    "# Witn W=0.9 it converges\n",
    "# With W=1.5 "
   ]
  },
  {
   "cell_type": "code",
   "execution_count": 102,
   "metadata": {
    "ExecuteTime": {
     "end_time": "2020-04-18T09:02:58.621929Z",
     "start_time": "2020-04-18T09:02:58.610479Z"
    }
   },
   "outputs": [],
   "source": [
    "def f(x,W):\n",
    "    return  x**3+3*x-W"
   ]
  },
  {
   "cell_type": "code",
   "execution_count": null,
   "metadata": {},
   "outputs": [],
   "source": [
    "scipy.optimize.bisect(f, a, b, args=(), xtol=2e-12, rtol=8.881784197001252e-16, maxiter=100, full_output=False, disp=True)[source]¶"
   ]
  },
  {
   "cell_type": "markdown",
   "metadata": {},
   "source": [
    "In orbital mechanics, when solving the central-force problem it becomes necessary to solve the Kepler's equation. This is a transcendental equation that relates the orbital parameters of the trajectory.\n",
    "\n",
    "*Kepler equation:* $M = E - \\epsilon \\sin E$\n",
    "\n",
    "where $M$ is the mean anomaly, $E$ the eccentric anomaly and $\\epsilon$ the eccentricity. The mean anomaly can be computed with the expression\n",
    "\n",
    "$$M = n\\ t = \\sqrt{ \\frac{GM}{a^3} } t$$\n",
    "\n",
    "where $n$ is the mean motion, $G$ the gravitational constant, $M$ the mass of the central body and $a$ the semi-major axis. $t$ is the time where the position in the trajectory will be computed.\n",
    "\n",
    "The coordinates $x$ and $y$ as time functions can be recovered by means of the next expressions\n",
    "\n",
    "$$x(t) = a(\\cos E - \\epsilon)$$\n",
    "\n",
    "$$y(t) = b\\sin E$$\n",
    "\n",
    "where $b = a \\sqrt{1-\\epsilon^2}$ is the semi-minor axis of the orbit and the implicit time-dependence of the eccentric anomaly $E$ is computed through the Kepler's equation."
   ]
  },
  {
   "cell_type": "code",
   "execution_count": null,
   "metadata": {},
   "outputs": [],
   "source": []
  }
 ],
 "metadata": {
  "kernelspec": {
   "display_name": "base",
   "language": "python",
   "name": "base"
  },
  "language_info": {
   "codemirror_mode": {
    "name": "ipython",
    "version": 3
   },
   "file_extension": ".py",
   "mimetype": "text/x-python",
   "name": "python",
   "nbconvert_exporter": "python",
   "pygments_lexer": "ipython3",
   "version": "3.7.7"
  }
 },
 "nbformat": 4,
 "nbformat_minor": 4
}
