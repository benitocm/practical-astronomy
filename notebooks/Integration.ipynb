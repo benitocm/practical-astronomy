{
 "cells": [
  {
   "cell_type": "code",
   "execution_count": 1,
   "metadata": {
    "ExecuteTime": {
     "end_time": "2020-06-16T17:42:12.654272Z",
     "start_time": "2020-06-16T17:42:05.392692Z"
    }
   },
   "outputs": [
    {
     "name": "stderr",
     "output_type": "stream",
     "text": [
      "\n",
      "Bad key \"text.kerning_factor\" on line 4 in\n",
      "/home/anybody/apps/anaconda3/envs/py37astro/lib/python3.7/site-packages/matplotlib/mpl-data/stylelib/_classic_test_patch.mplstyle.\n",
      "You probably need to get an updated matplotlibrc file from\n",
      "https://github.com/matplotlib/matplotlib/blob/v3.1.3/matplotlibrc.template\n",
      "or from the matplotlib source distribution\n"
     ]
    }
   ],
   "source": [
    "import numpy as np\n",
    "import matplotlib.pyplot as plt\n",
    "import matplotlib as mpl\n",
    "from scipy import integrate\n",
    "from scipy.integrate import solve_ivp\n",
    "import sympy\n",
    "import mpmath\n",
    "from mpl_toolkits.mplot3d.axes3d import Axes3D\n",
    "import myastro.orbit as ob\n",
    "import myastro.coord as co\n",
    "import myastro.timeutil as tc\n",
    "from toolz import pipe"
   ]
  },
  {
   "cell_type": "code",
   "execution_count": 9,
   "metadata": {
    "ExecuteTime": {
     "end_time": "2020-05-14T06:17:26.990073Z",
     "start_time": "2020-05-14T06:17:26.407386Z"
    }
   },
   "outputs": [],
   "source": [
    "x = sympy.symbols(\"x\")\n",
    "y = sympy.Function(\"y\")\n",
    "f = y(x)**2 + x"
   ]
  },
  {
   "cell_type": "code",
   "execution_count": 10,
   "metadata": {
    "ExecuteTime": {
     "end_time": "2020-05-14T06:18:26.506008Z",
     "start_time": "2020-05-14T06:18:26.491406Z"
    }
   },
   "outputs": [],
   "source": [
    "f_np = sympy.lambdify((y(x),x),f)"
   ]
  },
  {
   "cell_type": "code",
   "execution_count": 12,
   "metadata": {
    "ExecuteTime": {
     "end_time": "2020-05-14T06:20:20.706380Z",
     "start_time": "2020-05-14T06:20:20.690458Z"
    }
   },
   "outputs": [],
   "source": [
    "y0 = 0\n",
    "xp = np.linspace(0, 1.9, 100)\n",
    "yp = integrate.odeint(f_np, y0, xp)\n",
    "xm = np.linspace(0, -5, 100)\n",
    "ym = integrate.odeint(f_np, y0, xm)"
   ]
  },
  {
   "cell_type": "code",
   "execution_count": 24,
   "metadata": {
    "ExecuteTime": {
     "end_time": "2020-05-14T06:34:45.908188Z",
     "start_time": "2020-05-14T06:34:45.886582Z"
    }
   },
   "outputs": [],
   "source": [
    " def plot_direction_field(x, y_x, f_xy, x_lim=(-5, 5), y_lim=(-5, 5), ax=None):\n",
    "     f_np = sympy.lambdify((x, y_x), f_xy, 'numpy')\n",
    "     x_vec = np.linspace(x_lim[0], x_lim[1], 20)\n",
    "     y_vec = np.linspace(y_lim[0], y_lim[1], 20)\n",
    "     if ax is None:\n",
    "        _, ax = plt.subplots(figsize=(4, 4))       \n",
    "     dx = x_vec[1] - x_vec[0]\n",
    "     dy = y_vec[1] - y_vec[0]\n",
    "\n",
    "     for m, xx in enumerate(x_vec):\n",
    "        for n, yy in enumerate(y_vec):\n",
    "             Dy = f_np(xx, yy) * dx\n",
    "             Dx = 0.8 * dx**2 / np.sqrt(dx**2 + Dy**2)\n",
    "             Dy = 0.8 * Dy*dy / np.sqrt(dx**2 + Dy**2)\n",
    "             ax.plot([xx - Dx/2, xx + Dx/2],[yy - Dy/2, yy + Dy/2], 'b', lw=0.5)\n",
    "     ax.axis('tight')\n",
    "     ax.set_title(r\"$%s$\" % (sympy.latex(sympy.Eq(y(x).diff(x), f_xy))),fontsize=18)\n",
    "     return ax"
   ]
  },
  {
   "cell_type": "code",
   "execution_count": 25,
   "metadata": {
    "ExecuteTime": {
     "end_time": "2020-05-14T06:34:51.836745Z",
     "start_time": "2020-05-14T06:34:50.008611Z"
    }
   },
   "outputs": [
    {
     "data": {
      "text/plain": [
       "[<matplotlib.lines.Line2D at 0x7f463a7a1c50>]"
      ]
     },
     "execution_count": 25,
     "metadata": {},
     "output_type": "execute_result"
    },
    {
     "data": {
      "image/png": "[encoded data removed]",
      "text/plain": [
       "<Figure size 288x288 with 1 Axes>"
      ]
     },
     "metadata": {
      "needs_background": "light"
     },
     "output_type": "display_data"
    }
   ],
   "source": [
    "fig, ax = plt.subplots(1, 1, figsize=(4, 4))\n",
    "plot_direction_field(x, y(x), f, ax=ax)\n",
    "ax.plot(xm, ym, 'b', lw=2)\n",
    "ax.plot(xp, yp, 'r', lw=2)"
   ]
  },
  {
   "cell_type": "code",
   "execution_count": 26,
   "metadata": {
    "ExecuteTime": {
     "end_time": "2020-05-14T06:39:19.035453Z",
     "start_time": "2020-05-14T06:39:19.022997Z"
    }
   },
   "outputs": [],
   "source": [
    "a, b, c, d = 0.4, 0.002, 0.001, 0.7\n",
    "def f(xy, t):\n",
    "    x, y = xy\n",
    "    return [a * x - b * x * y, c * x * y - d * y]"
   ]
  },
  {
   "cell_type": "code",
   "execution_count": 27,
   "metadata": {
    "ExecuteTime": {
     "end_time": "2020-05-14T06:39:36.341126Z",
     "start_time": "2020-05-14T06:39:36.325479Z"
    }
   },
   "outputs": [],
   "source": [
    "xy0 = [600, 400]\n",
    "t = np.linspace(0, 50, 250)\n",
    "xy_t = integrate.odeint(f, xy0, t)"
   ]
  },
  {
   "cell_type": "code",
   "execution_count": 28,
   "metadata": {
    "ExecuteTime": {
     "end_time": "2020-05-14T06:39:47.621293Z",
     "start_time": "2020-05-14T06:39:47.606229Z"
    }
   },
   "outputs": [
    {
     "data": {
      "text/plain": [
       "(250, 2)"
      ]
     },
     "execution_count": 28,
     "metadata": {},
     "output_type": "execute_result"
    }
   ],
   "source": [
    "xy_t.shape"
   ]
  },
  {
   "cell_type": "code",
   "execution_count": 29,
   "metadata": {
    "ExecuteTime": {
     "end_time": "2020-05-14T06:42:01.479661Z",
     "start_time": "2020-05-14T06:42:01.466328Z"
    }
   },
   "outputs": [],
   "source": [
    "def f(t, y, args):\n",
    "    m1, k1, g1, m2, k2, g2 = args\n",
    "    return [y[1], - k1/m1 * y[0] + k2/m1 * (y[2] - y[0]) -g1/m1 * y[1], y[3], - k2/m2 * (y[2] - y[0]) - g2/m2 * y[3]]"
   ]
  },
  {
   "cell_type": "code",
   "execution_count": 30,
   "metadata": {
    "ExecuteTime": {
     "end_time": "2020-05-14T06:42:41.100481Z",
     "start_time": "2020-05-14T06:42:41.087245Z"
    }
   },
   "outputs": [],
   "source": [
    "m1, k1, g1 = 1.0, 10.0, 0.5\n",
    "m2, k2, g2 = 2.0, 40.0, 0.25\n",
    "args = (m1, k1, g1, m2, k2, g2)\n",
    "y0 = [1.0, 0, 0.5, 0]\n",
    "t = np.linspace(0, 20, 1000)"
   ]
  },
  {
   "cell_type": "code",
   "execution_count": 31,
   "metadata": {
    "ExecuteTime": {
     "end_time": "2020-05-14T06:42:56.785849Z",
     "start_time": "2020-05-14T06:42:56.777532Z"
    }
   },
   "outputs": [],
   "source": [
    "r = integrate.ode(f)"
   ]
  },
  {
   "cell_type": "code",
   "execution_count": 32,
   "metadata": {
    "ExecuteTime": {
     "end_time": "2020-05-14T06:43:21.195050Z",
     "start_time": "2020-05-14T06:43:21.180776Z"
    }
   },
   "outputs": [
    {
     "ename": "SyntaxError",
     "evalue": "invalid syntax (<ipython-input-32-bf6fdb0bc2b8>, line 3)",
     "output_type": "error",
     "traceback": [
      "\u001b[0;36m  File \u001b[0;32m\"<ipython-input-32-bf6fdb0bc2b8>\"\u001b[0;36m, line \u001b[0;32m3\u001b[0m\n\u001b[0;31m    r.set_f_params(args)\u001b[0m\n\u001b[0m    ^\u001b[0m\n\u001b[0;31mSyntaxError\u001b[0m\u001b[0;31m:\u001b[0m invalid syntax\n"
     ]
    }
   ],
   "source": [
    "r.set_integrator('lsoda')\n",
    "r.set_initial_value(y0, t)\n",
    "r.set_f_params(args)"
   ]
  },
  {
   "cell_type": "code",
   "execution_count": 2,
   "metadata": {
    "ExecuteTime": {
     "end_time": "2020-05-14T16:16:11.905618Z",
     "start_time": "2020-05-14T16:16:11.894970Z"
    }
   },
   "outputs": [],
   "source": [
    "import numpy as np\n",
    "from scipy.integrate import solve_ivp"
   ]
  },
  {
   "cell_type": "code",
   "execution_count": 3,
   "metadata": {
    "ExecuteTime": {
     "end_time": "2020-05-14T16:18:18.203258Z",
     "start_time": "2020-05-14T16:18:18.103919Z"
    }
   },
   "outputs": [],
   "source": [
    "sol = solve_ivp(lambda t, y: t-y, [0, 15], [2])"
   ]
  },
  {
   "cell_type": "code",
   "execution_count": 4,
   "metadata": {
    "ExecuteTime": {
     "end_time": "2020-05-14T16:18:37.803692Z",
     "start_time": "2020-05-14T16:18:37.056952Z"
    }
   },
   "outputs": [
    {
     "data": {
      "text/plain": [
       "[<matplotlib.lines.Line2D at 0x7f3848220610>]"
      ]
     },
     "execution_count": 4,
     "metadata": {},
     "output_type": "execute_result"
    },
    {
     "data": {
      "image/png": "[encoded data removed]",
      "text/plain": [
       "<Figure size 432x288 with 1 Axes>"
      ]
     },
     "metadata": {
      "needs_background": "light"
     },
     "output_type": "display_data"
    }
   ],
   "source": [
    "plt.plot(sol.t, sol.y[0], 'k--s')\n"
   ]
  },
  {
   "cell_type": "code",
   "execution_count": 50,
   "metadata": {
    "ExecuteTime": {
     "end_time": "2020-05-14T18:14:20.068768Z",
     "start_time": "2020-05-14T18:14:20.054615Z"
    }
   },
   "outputs": [
    {
     "data": {
      "text/plain": [
       "True"
      ]
     },
     "execution_count": 50,
     "metadata": {},
     "output_type": "execute_result"
    }
   ],
   "source": [
    "sol.success"
   ]
  },
  {
   "cell_type": "code",
   "execution_count": 52,
   "metadata": {
    "ExecuteTime": {
     "end_time": "2020-05-14T18:17:22.660455Z",
     "start_time": "2020-05-14T18:17:22.646646Z"
    }
   },
   "outputs": [
    {
     "name": "stdout",
     "output_type": "stream",
     "text": [
      "58982.5\n"
     ]
    }
   ],
   "source": [
    "t_mjd = pipe(co.epochformat2jd(\"2020.05.13.5\"),tc.jd2mjd)\n",
    "print (t_mjd)\n",
    "r_venus, v_venus = ob.planet_helioeclipt_rv(\"Venus\",t_mjd)"
   ]
  },
  {
   "cell_type": "code",
   "execution_count": 53,
   "metadata": {
    "ExecuteTime": {
     "end_time": "2020-05-14T18:17:23.392748Z",
     "start_time": "2020-05-14T18:17:23.356393Z"
    }
   },
   "outputs": [],
   "source": [
    "a_venus = ob.calc_accelaration(t_mjd,r_venus)"
   ]
  },
  {
   "cell_type": "code",
   "execution_count": 54,
   "metadata": {
    "ExecuteTime": {
     "end_time": "2020-05-14T18:17:24.089683Z",
     "start_time": "2020-05-14T18:17:24.074144Z"
    }
   },
   "outputs": [
    {
     "data": {
      "text/plain": [
       "array([ 3.35866638e-04,  4.63490039e-04, -1.30506670e-05])"
      ]
     },
     "execution_count": 54,
     "metadata": {},
     "output_type": "execute_result"
    }
   ],
   "source": [
    "a_venus"
   ]
  },
  {
   "cell_type": "code",
   "execution_count": 55,
   "metadata": {
    "ExecuteTime": {
     "end_time": "2020-05-14T18:17:24.796343Z",
     "start_time": "2020-05-14T18:17:24.785449Z"
    }
   },
   "outputs": [],
   "source": [
    "def my_f(t,y):\n",
    "    acc = ob.calc_accelaration(t,y[0:3])\n",
    "    return np.concatenate((y[3:6],acc))\n",
    "    #return np.array([v1,v2,v3,acc[0],acc[1],acc[2]])                               "
   ]
  },
  {
   "cell_type": "code",
   "execution_count": 56,
   "metadata": {
    "ExecuteTime": {
     "end_time": "2020-05-14T18:17:26.206257Z",
     "start_time": "2020-05-14T18:17:26.195366Z"
    }
   },
   "outputs": [],
   "source": [
    "y0 = np.array([r_venus[0],r_venus[1],r_venus[2],v_venus[0],v_venus[1],v_venus[2]])\n",
    "y0 = np.concatenate((r_venus,v_venus))\n"
   ]
  },
  {
   "cell_type": "code",
   "execution_count": 57,
   "metadata": {
    "ExecuteTime": {
     "end_time": "2020-05-14T18:17:29.901915Z",
     "start_time": "2020-05-14T18:17:27.353336Z"
    }
   },
   "outputs": [],
   "source": [
    "sol = solve_ivp(my_f,(t_mjd,t_mjd+500),y0)"
   ]
  },
  {
   "cell_type": "code",
   "execution_count": 27,
   "metadata": {
    "ExecuteTime": {
     "end_time": "2020-05-14T16:49:48.287567Z",
     "start_time": "2020-05-14T16:49:48.269068Z"
    }
   },
   "outputs": [],
   "source": [
    "a = np.array([0,1,2,3,4,5])"
   ]
  },
  {
   "cell_type": "code",
   "execution_count": 34,
   "metadata": {
    "ExecuteTime": {
     "end_time": "2020-05-14T16:51:33.007508Z",
     "start_time": "2020-05-14T16:51:32.992523Z"
    }
   },
   "outputs": [
    {
     "data": {
      "text/plain": [
       "array([3, 4, 5])"
      ]
     },
     "execution_count": 34,
     "metadata": {},
     "output_type": "execute_result"
    }
   ],
   "source": [
    "a[3:6]"
   ]
  },
  {
   "cell_type": "code",
   "execution_count": 35,
   "metadata": {
    "ExecuteTime": {
     "end_time": "2020-05-14T17:00:39.451775Z",
     "start_time": "2020-05-14T17:00:39.435858Z"
    }
   },
   "outputs": [
    {
     "data": {
      "text/plain": [
       "array([3, 4, 5, 0, 1, 2])"
      ]
     },
     "execution_count": 35,
     "metadata": {},
     "output_type": "execute_result"
    }
   ],
   "source": [
    "np.concatenate((a[3:6],a[0:3]))"
   ]
  },
  {
   "cell_type": "code",
   "execution_count": 48,
   "metadata": {
    "ExecuteTime": {
     "end_time": "2020-05-14T17:03:09.822407Z",
     "start_time": "2020-05-14T17:03:09.550870Z"
    }
   },
   "outputs": [
    {
     "data": {
      "text/plain": [
       "[<matplotlib.lines.Line2D at 0x7fd7a92f6690>]"
      ]
     },
     "execution_count": 48,
     "metadata": {},
     "output_type": "execute_result"
    },
    {
     "data": {
      "image/png": "[encoded data removed]",
      "text/plain": [
       "<Figure size 432x288 with 1 Axes>"
      ]
     },
     "metadata": {
      "needs_background": "light"
     },
     "output_type": "display_data"
    }
   ],
   "source": [
    "plt.plot(sol.t, sol.y[0], 'k--s')"
   ]
  },
  {
   "cell_type": "code",
   "execution_count": 58,
   "metadata": {
    "ExecuteTime": {
     "end_time": "2020-05-14T18:17:33.430742Z",
     "start_time": "2020-05-14T18:17:33.412422Z"
    }
   },
   "outputs": [
    {
     "data": {
      "text/plain": [
       "  message: 'The solver successfully reached the end of the integration interval.'\n",
       "     nfev: 116\n",
       "     njev: 0\n",
       "      nlu: 0\n",
       "      sol: None\n",
       "   status: 0\n",
       "  success: True\n",
       "        t: array([58982.5       , 58982.69463174, 58984.64094914, 59004.10412312,\n",
       "       59035.52136368, 59071.41046562, 59104.51932098, 59138.6965941 ,\n",
       "       59170.74162723, 59201.95634269, 59232.90889038, 59261.71915742,\n",
       "       59293.83006402, 59324.59607838, 59353.36065734, 59383.76932541,\n",
       "       59411.2487118 , 59438.59445994, 59467.38578135, 59482.5       ])\n",
       " t_events: None\n",
       "        y: array([[-4.21742867e-01, -4.18543847e-01, -3.85875427e-01,\n",
       "        -1.30119291e-02,  5.48556909e-01,  6.89722778e-01,\n",
       "         2.34765298e-01, -4.29955274e-01, -6.73029598e-01,\n",
       "        -3.22282972e-01,  3.03669914e-01,  6.58892008e-01,\n",
       "         4.70456332e-01, -1.29000712e-01, -5.85903225e-01,\n",
       "        -5.20890904e-01, -1.15563895e-02,  5.02732555e-01,\n",
       "         5.91066938e-01,  4.03946229e-01],\n",
       "       [-5.81981354e-01, -5.84306603e-01, -6.06578458e-01,\n",
       "        -7.20708708e-01, -4.71213698e-01,  2.06875521e-01,\n",
       "         6.66456759e-01,  5.37583519e-01, -6.26839316e-02,\n",
       "        -5.91276480e-01, -6.02109273e-01, -1.39424988e-01,\n",
       "         4.76525115e-01,  6.44508714e-01,  2.64949144e-01,\n",
       "        -3.63578564e-01, -6.31608749e-01, -3.79515592e-01,\n",
       "         2.13182434e-01,  4.77635213e-01],\n",
       "       [ 1.63870986e-02,  1.61707108e-02,  1.39810903e-02,\n",
       "        -9.09654851e-03, -3.80960972e-02, -3.69776326e-02,\n",
       "        -4.44211861e-03,  3.21583164e-02,  3.79841815e-02,\n",
       "         1.05197742e-02, -2.57522804e-02, -3.99300482e-02,\n",
       "        -2.06387888e-02,  1.62514556e-02,  3.74328978e-02,\n",
       "         2.50924930e-02, -7.96381569e-03, -3.41987409e-02,\n",
       "        -3.11974336e-02, -1.67849733e-02],\n",
       "       [ 1.64036693e-02,  1.64687902e-02,  1.70921874e-02,\n",
       "         2.02540010e-02,  1.31249372e-02, -6.07882983e-03,\n",
       "        -1.94507363e-02, -1.59162985e-02,  2.21500880e-03,\n",
       "         1.85058228e-02,  1.86819064e-02,  4.25326354e-03,\n",
       "        -1.51053480e-02, -2.06810366e-02, -8.49106699e-03,\n",
       "         1.25844724e-02,  2.17127916e-02,  1.30055246e-02,\n",
       "        -7.50141982e-03, -1.67165454e-02],\n",
       "       [-1.19920821e-02, -1.19016940e-02, -1.09787833e-02,\n",
       "        -4.66761793e-04,  1.52901117e-02,  1.91874866e-02,\n",
       "         6.27402713e-03, -1.34458198e-02, -2.09771492e-02,\n",
       "        -1.00609144e-02,  9.45903226e-03,  2.04783081e-02,\n",
       "         1.44711673e-02, -4.69745744e-03, -1.98456860e-02,\n",
       "        -1.76533905e-02, -2.74791256e-04,  1.73651893e-02,\n",
       "         2.02917753e-02,  1.38830287e-02],\n",
       "       [-1.11051614e-03, -1.11303939e-03, -1.13640690e-03,\n",
       "        -1.17525210e-03, -5.48529991e-04,  6.12987286e-04,\n",
       "         1.20824049e-03,  7.34813060e-04, -4.14460648e-04,\n",
       "        -1.20545197e-03, -9.48890923e-04,  3.43648260e-05,\n",
       "         1.06947478e-03,  1.12931946e-03,  2.18838865e-04,\n",
       "        -9.67476705e-04, -1.25680471e-03, -5.13259675e-04,\n",
       "         7.10191412e-04,  1.15442292e-03]])\n",
       " y_events: None"
      ]
     },
     "execution_count": 58,
     "metadata": {},
     "output_type": "execute_result"
    }
   ],
   "source": [
    "sol"
   ]
  },
  {
   "cell_type": "code",
   "execution_count": 64,
   "metadata": {
    "ExecuteTime": {
     "end_time": "2020-05-14T18:21:48.440377Z",
     "start_time": "2020-05-14T18:21:48.425406Z"
    }
   },
   "outputs": [
    {
     "data": {
      "text/plain": [
       "array([58982.5       , 58982.69463174, 58984.64094914, 59004.10412312,\n",
       "       59035.52136368, 59071.41046562, 59104.51932098, 59138.6965941 ,\n",
       "       59170.74162723, 59201.95634269, 59232.90889038, 59261.71915742,\n",
       "       59293.83006402, 59324.59607838, 59353.36065734, 59383.76932541,\n",
       "       59411.2487118 , 59438.59445994, 59467.38578135, 59482.5       ])"
      ]
     },
     "execution_count": 64,
     "metadata": {},
     "output_type": "execute_result"
    }
   ],
   "source": [
    "sol.t"
   ]
  },
  {
   "cell_type": "code",
   "execution_count": 61,
   "metadata": {
    "ExecuteTime": {
     "end_time": "2020-05-14T18:19:39.044525Z",
     "start_time": "2020-05-14T18:19:39.028852Z"
    }
   },
   "outputs": [
    {
     "data": {
      "text/plain": [
       "(6, 20)"
      ]
     },
     "execution_count": 61,
     "metadata": {},
     "output_type": "execute_result"
    }
   ],
   "source": [
    "sol.y.shape"
   ]
  },
  {
   "cell_type": "code",
   "execution_count": 62,
   "metadata": {
    "ExecuteTime": {
     "end_time": "2020-05-14T18:20:06.821531Z",
     "start_time": "2020-05-14T18:20:06.804080Z"
    }
   },
   "outputs": [
    {
     "data": {
      "text/plain": [
       "array([[-4.21742867e-01, -4.18543847e-01, -3.85875427e-01,\n",
       "        -1.30119291e-02,  5.48556909e-01,  6.89722778e-01,\n",
       "         2.34765298e-01, -4.29955274e-01, -6.73029598e-01,\n",
       "        -3.22282972e-01,  3.03669914e-01,  6.58892008e-01,\n",
       "         4.70456332e-01, -1.29000712e-01, -5.85903225e-01,\n",
       "        -5.20890904e-01, -1.15563895e-02,  5.02732555e-01,\n",
       "         5.91066938e-01,  4.03946229e-01],\n",
       "       [-5.81981354e-01, -5.84306603e-01, -6.06578458e-01,\n",
       "        -7.20708708e-01, -4.71213698e-01,  2.06875521e-01,\n",
       "         6.66456759e-01,  5.37583519e-01, -6.26839316e-02,\n",
       "        -5.91276480e-01, -6.02109273e-01, -1.39424988e-01,\n",
       "         4.76525115e-01,  6.44508714e-01,  2.64949144e-01,\n",
       "        -3.63578564e-01, -6.31608749e-01, -3.79515592e-01,\n",
       "         2.13182434e-01,  4.77635213e-01],\n",
       "       [ 1.63870986e-02,  1.61707108e-02,  1.39810903e-02,\n",
       "        -9.09654851e-03, -3.80960972e-02, -3.69776326e-02,\n",
       "        -4.44211861e-03,  3.21583164e-02,  3.79841815e-02,\n",
       "         1.05197742e-02, -2.57522804e-02, -3.99300482e-02,\n",
       "        -2.06387888e-02,  1.62514556e-02,  3.74328978e-02,\n",
       "         2.50924930e-02, -7.96381569e-03, -3.41987409e-02,\n",
       "        -3.11974336e-02, -1.67849733e-02],\n",
       "       [ 1.64036693e-02,  1.64687902e-02,  1.70921874e-02,\n",
       "         2.02540010e-02,  1.31249372e-02, -6.07882983e-03,\n",
       "        -1.94507363e-02, -1.59162985e-02,  2.21500880e-03,\n",
       "         1.85058228e-02,  1.86819064e-02,  4.25326354e-03,\n",
       "        -1.51053480e-02, -2.06810366e-02, -8.49106699e-03,\n",
       "         1.25844724e-02,  2.17127916e-02,  1.30055246e-02,\n",
       "        -7.50141982e-03, -1.67165454e-02],\n",
       "       [-1.19920821e-02, -1.19016940e-02, -1.09787833e-02,\n",
       "        -4.66761793e-04,  1.52901117e-02,  1.91874866e-02,\n",
       "         6.27402713e-03, -1.34458198e-02, -2.09771492e-02,\n",
       "        -1.00609144e-02,  9.45903226e-03,  2.04783081e-02,\n",
       "         1.44711673e-02, -4.69745744e-03, -1.98456860e-02,\n",
       "        -1.76533905e-02, -2.74791256e-04,  1.73651893e-02,\n",
       "         2.02917753e-02,  1.38830287e-02],\n",
       "       [-1.11051614e-03, -1.11303939e-03, -1.13640690e-03,\n",
       "        -1.17525210e-03, -5.48529991e-04,  6.12987286e-04,\n",
       "         1.20824049e-03,  7.34813060e-04, -4.14460648e-04,\n",
       "        -1.20545197e-03, -9.48890923e-04,  3.43648260e-05,\n",
       "         1.06947478e-03,  1.12931946e-03,  2.18838865e-04,\n",
       "        -9.67476705e-04, -1.25680471e-03, -5.13259675e-04,\n",
       "         7.10191412e-04,  1.15442292e-03]])"
      ]
     },
     "execution_count": 62,
     "metadata": {},
     "output_type": "execute_result"
    }
   ],
   "source": [
    "sol.y"
   ]
  },
  {
   "cell_type": "code",
   "execution_count": 65,
   "metadata": {
    "ExecuteTime": {
     "end_time": "2020-05-14T18:22:55.761958Z",
     "start_time": "2020-05-14T18:22:55.742545Z"
    }
   },
   "outputs": [
    {
     "data": {
      "text/plain": [
       "  message: 'The solver successfully reached the end of the integration interval.'\n",
       "     nfev: 116\n",
       "     njev: 0\n",
       "      nlu: 0\n",
       "      sol: None\n",
       "   status: 0\n",
       "  success: True\n",
       "        t: array([58982.5       , 58982.69463174, 58984.64094914, 59004.10412312,\n",
       "       59035.52136368, 59071.41046562, 59104.51932098, 59138.6965941 ,\n",
       "       59170.74162723, 59201.95634269, 59232.90889038, 59261.71915742,\n",
       "       59293.83006402, 59324.59607838, 59353.36065734, 59383.76932541,\n",
       "       59411.2487118 , 59438.59445994, 59467.38578135, 59482.5       ])\n",
       " t_events: None\n",
       "        y: array([[-4.21742867e-01, -4.18543847e-01, -3.85875427e-01,\n",
       "        -1.30119291e-02,  5.48556909e-01,  6.89722778e-01,\n",
       "         2.34765298e-01, -4.29955274e-01, -6.73029598e-01,\n",
       "        -3.22282972e-01,  3.03669914e-01,  6.58892008e-01,\n",
       "         4.70456332e-01, -1.29000712e-01, -5.85903225e-01,\n",
       "        -5.20890904e-01, -1.15563895e-02,  5.02732555e-01,\n",
       "         5.91066938e-01,  4.03946229e-01],\n",
       "       [-5.81981354e-01, -5.84306603e-01, -6.06578458e-01,\n",
       "        -7.20708708e-01, -4.71213698e-01,  2.06875521e-01,\n",
       "         6.66456759e-01,  5.37583519e-01, -6.26839316e-02,\n",
       "        -5.91276480e-01, -6.02109273e-01, -1.39424988e-01,\n",
       "         4.76525115e-01,  6.44508714e-01,  2.64949144e-01,\n",
       "        -3.63578564e-01, -6.31608749e-01, -3.79515592e-01,\n",
       "         2.13182434e-01,  4.77635213e-01],\n",
       "       [ 1.63870986e-02,  1.61707108e-02,  1.39810903e-02,\n",
       "        -9.09654851e-03, -3.80960972e-02, -3.69776326e-02,\n",
       "        -4.44211861e-03,  3.21583164e-02,  3.79841815e-02,\n",
       "         1.05197742e-02, -2.57522804e-02, -3.99300482e-02,\n",
       "        -2.06387888e-02,  1.62514556e-02,  3.74328978e-02,\n",
       "         2.50924930e-02, -7.96381569e-03, -3.41987409e-02,\n",
       "        -3.11974336e-02, -1.67849733e-02],\n",
       "       [ 1.64036693e-02,  1.64687902e-02,  1.70921874e-02,\n",
       "         2.02540010e-02,  1.31249372e-02, -6.07882983e-03,\n",
       "        -1.94507363e-02, -1.59162985e-02,  2.21500880e-03,\n",
       "         1.85058228e-02,  1.86819064e-02,  4.25326354e-03,\n",
       "        -1.51053480e-02, -2.06810366e-02, -8.49106699e-03,\n",
       "         1.25844724e-02,  2.17127916e-02,  1.30055246e-02,\n",
       "        -7.50141982e-03, -1.67165454e-02],\n",
       "       [-1.19920821e-02, -1.19016940e-02, -1.09787833e-02,\n",
       "        -4.66761793e-04,  1.52901117e-02,  1.91874866e-02,\n",
       "         6.27402713e-03, -1.34458198e-02, -2.09771492e-02,\n",
       "        -1.00609144e-02,  9.45903226e-03,  2.04783081e-02,\n",
       "         1.44711673e-02, -4.69745744e-03, -1.98456860e-02,\n",
       "        -1.76533905e-02, -2.74791256e-04,  1.73651893e-02,\n",
       "         2.02917753e-02,  1.38830287e-02],\n",
       "       [-1.11051614e-03, -1.11303939e-03, -1.13640690e-03,\n",
       "        -1.17525210e-03, -5.48529991e-04,  6.12987286e-04,\n",
       "         1.20824049e-03,  7.34813060e-04, -4.14460648e-04,\n",
       "        -1.20545197e-03, -9.48890923e-04,  3.43648260e-05,\n",
       "         1.06947478e-03,  1.12931946e-03,  2.18838865e-04,\n",
       "        -9.67476705e-04, -1.25680471e-03, -5.13259675e-04,\n",
       "         7.10191412e-04,  1.15442292e-03]])\n",
       " y_events: None"
      ]
     },
     "execution_count": 65,
     "metadata": {},
     "output_type": "execute_result"
    }
   ],
   "source": [
    "sol"
   ]
  },
  {
   "cell_type": "code",
   "execution_count": 67,
   "metadata": {
    "ExecuteTime": {
     "end_time": "2020-05-14T18:23:34.980579Z",
     "start_time": "2020-05-14T18:23:34.964554Z"
    }
   },
   "outputs": [
    {
     "data": {
      "text/plain": [
       "59482.5"
      ]
     },
     "execution_count": 67,
     "metadata": {},
     "output_type": "execute_result"
    }
   ],
   "source": [
    "sol.t[19]"
   ]
  },
  {
   "cell_type": "code",
   "execution_count": 72,
   "metadata": {
    "ExecuteTime": {
     "end_time": "2020-05-14T18:24:49.999288Z",
     "start_time": "2020-05-14T18:24:49.983645Z"
    }
   },
   "outputs": [
    {
     "data": {
      "text/plain": [
       "array([ 0.40394623,  0.47763521, -0.01678497, -0.01671655,  0.01388303,\n",
       "        0.00115442])"
      ]
     },
     "execution_count": 72,
     "metadata": {},
     "output_type": "execute_result"
    }
   ],
   "source": [
    "sol.y[:,19]"
   ]
  },
  {
   "cell_type": "code",
   "execution_count": 73,
   "metadata": {
    "ExecuteTime": {
     "end_time": "2020-05-14T18:25:30.769265Z",
     "start_time": "2020-05-14T18:25:30.750734Z"
    }
   },
   "outputs": [
    {
     "data": {
      "text/plain": [
       "  message: 'The solver successfully reached the end of the integration interval.'\n",
       "     nfev: 116\n",
       "     njev: 0\n",
       "      nlu: 0\n",
       "      sol: None\n",
       "   status: 0\n",
       "  success: True\n",
       "        t: array([58982.5       , 58982.69463174, 58984.64094914, 59004.10412312,\n",
       "       59035.52136368, 59071.41046562, 59104.51932098, 59138.6965941 ,\n",
       "       59170.74162723, 59201.95634269, 59232.90889038, 59261.71915742,\n",
       "       59293.83006402, 59324.59607838, 59353.36065734, 59383.76932541,\n",
       "       59411.2487118 , 59438.59445994, 59467.38578135, 59482.5       ])\n",
       " t_events: None\n",
       "        y: array([[-4.21742867e-01, -4.18543847e-01, -3.85875427e-01,\n",
       "        -1.30119291e-02,  5.48556909e-01,  6.89722778e-01,\n",
       "         2.34765298e-01, -4.29955274e-01, -6.73029598e-01,\n",
       "        -3.22282972e-01,  3.03669914e-01,  6.58892008e-01,\n",
       "         4.70456332e-01, -1.29000712e-01, -5.85903225e-01,\n",
       "        -5.20890904e-01, -1.15563895e-02,  5.02732555e-01,\n",
       "         5.91066938e-01,  4.03946229e-01],\n",
       "       [-5.81981354e-01, -5.84306603e-01, -6.06578458e-01,\n",
       "        -7.20708708e-01, -4.71213698e-01,  2.06875521e-01,\n",
       "         6.66456759e-01,  5.37583519e-01, -6.26839316e-02,\n",
       "        -5.91276480e-01, -6.02109273e-01, -1.39424988e-01,\n",
       "         4.76525115e-01,  6.44508714e-01,  2.64949144e-01,\n",
       "        -3.63578564e-01, -6.31608749e-01, -3.79515592e-01,\n",
       "         2.13182434e-01,  4.77635213e-01],\n",
       "       [ 1.63870986e-02,  1.61707108e-02,  1.39810903e-02,\n",
       "        -9.09654851e-03, -3.80960972e-02, -3.69776326e-02,\n",
       "        -4.44211861e-03,  3.21583164e-02,  3.79841815e-02,\n",
       "         1.05197742e-02, -2.57522804e-02, -3.99300482e-02,\n",
       "        -2.06387888e-02,  1.62514556e-02,  3.74328978e-02,\n",
       "         2.50924930e-02, -7.96381569e-03, -3.41987409e-02,\n",
       "        -3.11974336e-02, -1.67849733e-02],\n",
       "       [ 1.64036693e-02,  1.64687902e-02,  1.70921874e-02,\n",
       "         2.02540010e-02,  1.31249372e-02, -6.07882983e-03,\n",
       "        -1.94507363e-02, -1.59162985e-02,  2.21500880e-03,\n",
       "         1.85058228e-02,  1.86819064e-02,  4.25326354e-03,\n",
       "        -1.51053480e-02, -2.06810366e-02, -8.49106699e-03,\n",
       "         1.25844724e-02,  2.17127916e-02,  1.30055246e-02,\n",
       "        -7.50141982e-03, -1.67165454e-02],\n",
       "       [-1.19920821e-02, -1.19016940e-02, -1.09787833e-02,\n",
       "        -4.66761793e-04,  1.52901117e-02,  1.91874866e-02,\n",
       "         6.27402713e-03, -1.34458198e-02, -2.09771492e-02,\n",
       "        -1.00609144e-02,  9.45903226e-03,  2.04783081e-02,\n",
       "         1.44711673e-02, -4.69745744e-03, -1.98456860e-02,\n",
       "        -1.76533905e-02, -2.74791256e-04,  1.73651893e-02,\n",
       "         2.02917753e-02,  1.38830287e-02],\n",
       "       [-1.11051614e-03, -1.11303939e-03, -1.13640690e-03,\n",
       "        -1.17525210e-03, -5.48529991e-04,  6.12987286e-04,\n",
       "         1.20824049e-03,  7.34813060e-04, -4.14460648e-04,\n",
       "        -1.20545197e-03, -9.48890923e-04,  3.43648260e-05,\n",
       "         1.06947478e-03,  1.12931946e-03,  2.18838865e-04,\n",
       "        -9.67476705e-04, -1.25680471e-03, -5.13259675e-04,\n",
       "         7.10191412e-04,  1.15442292e-03]])\n",
       " y_events: None"
      ]
     },
     "execution_count": 73,
     "metadata": {},
     "output_type": "execute_result"
    }
   ],
   "source": [
    "sol"
   ]
  },
  {
   "cell_type": "code",
   "execution_count": 80,
   "metadata": {
    "ExecuteTime": {
     "end_time": "2020-05-14T18:27:49.441639Z",
     "start_time": "2020-05-14T18:27:49.426116Z"
    }
   },
   "outputs": [
    {
     "data": {
      "text/plain": [
       "array([ 0.40394623,  0.47763521, -0.01678497, -0.01671655,  0.01388303,\n",
       "        0.00115442])"
      ]
     },
     "execution_count": 80,
     "metadata": {},
     "output_type": "execute_result"
    }
   ],
   "source": [
    "idx = len(sol.t) -1\n",
    "sol.t[idx]\n",
    "sol.y[:,idx]"
   ]
  },
  {
   "cell_type": "code",
   "execution_count": 81,
   "metadata": {
    "ExecuteTime": {
     "end_time": "2020-05-14T18:28:27.009824Z",
     "start_time": "2020-05-14T18:28:27.000199Z"
    }
   },
   "outputs": [],
   "source": [
    "r_sol = sol.y[:,idx][:3]"
   ]
  },
  {
   "cell_type": "code",
   "execution_count": 82,
   "metadata": {
    "ExecuteTime": {
     "end_time": "2020-05-14T18:28:43.853965Z",
     "start_time": "2020-05-14T18:28:43.843078Z"
    }
   },
   "outputs": [],
   "source": [
    "v_sol = sol.y[:,idx][3:6]"
   ]
  },
  {
   "cell_type": "code",
   "execution_count": 83,
   "metadata": {
    "ExecuteTime": {
     "end_time": "2020-05-14T18:28:48.868075Z",
     "start_time": "2020-05-14T18:28:48.852209Z"
    }
   },
   "outputs": [
    {
     "data": {
      "text/plain": [
       "array([ 0.40394623,  0.47763521, -0.01678497])"
      ]
     },
     "execution_count": 83,
     "metadata": {},
     "output_type": "execute_result"
    }
   ],
   "source": [
    "r_sol"
   ]
  },
  {
   "cell_type": "code",
   "execution_count": 84,
   "metadata": {
    "ExecuteTime": {
     "end_time": "2020-05-14T18:28:53.844193Z",
     "start_time": "2020-05-14T18:28:53.828560Z"
    }
   },
   "outputs": [
    {
     "data": {
      "text/plain": [
       "array([-0.01671655,  0.01388303,  0.00115442])"
      ]
     },
     "execution_count": 84,
     "metadata": {},
     "output_type": "execute_result"
    }
   ],
   "source": [
    "v_sol"
   ]
  },
  {
   "cell_type": "code",
   "execution_count": 2,
   "metadata": {
    "ExecuteTime": {
     "end_time": "2020-05-15T08:33:44.261735Z",
     "start_time": "2020-05-15T08:33:44.240609Z"
    }
   },
   "outputs": [],
   "source": [
    "from myastro.cluegen import Datum\n",
    "\n",
    "class Coordinates(Datum):\n",
    "    x: int\n",
    "    y: int\n",
    "\n",
    "a = Coordinates(2, 3)\n"
   ]
  },
  {
   "cell_type": "code",
   "execution_count": 12,
   "metadata": {
    "ExecuteTime": {
     "end_time": "2020-06-16T17:50:35.845009Z",
     "start_time": "2020-06-16T17:50:35.824070Z"
    }
   },
   "outputs": [
    {
     "name": "stdout",
     "output_type": "stream",
     "text": [
      "[1. 3. 5. 7. 9.]\n"
     ]
    }
   ],
   "source": [
    "step = 2\n",
    "start = 1\n",
    "end = 9\n",
    "samples = 4 + 1\n",
    "interval = np.linspace(start,end,samples,endpoint=True)\n",
    "print (interval)"
   ]
  },
  {
   "cell_type": "code",
   "execution_count": 37,
   "metadata": {
    "ExecuteTime": {
     "end_time": "2020-06-16T18:11:00.545215Z",
     "start_time": "2020-06-16T18:11:00.498273Z"
    }
   },
   "outputs": [],
   "source": [
    "def my_range (start, stop, step, include_start = True, include_end = True):\n",
    "    result = []\n",
    "    i = 0\n",
    "    while start + i * step <= stop:\n",
    "        result.append(start + i * step)\n",
    "        i += 1\n",
    "    if include_end :         \n",
    "        if result[-1] != stop :\n",
    "            result.append(stop)\n",
    "    else :\n",
    "        if result[-1] == stop :\n",
    "            result = result[:-1]\n",
    "    if not include_start :         \n",
    "        result = result[1:]\n",
    "    return result\n",
    "    "
   ]
  },
  {
   "cell_type": "code",
   "execution_count": 34,
   "metadata": {
    "ExecuteTime": {
     "end_time": "2020-06-16T18:08:51.812209Z",
     "start_time": "2020-06-16T18:08:51.781071Z"
    }
   },
   "outputs": [
    {
     "name": "stdout",
     "output_type": "stream",
     "text": [
      "[3, 5, 7, 9]\n",
      "[10, 12, 14, 16, 18, 20]\n",
      "None\n",
      "None\n"
     ]
    }
   ],
   "source": [
    "# init    from to\n",
    "# intervalo 1  my_range(init,from,step,include_end=False)\n",
    "# intervalo 2  my_range(from,to,step,include_end=True)\n",
    "\n",
    "int1 = my_range(3,10,2,include_end=False)\n",
    "int2 = my_range(10,20,2,include_end=True)\n",
    "print (int1)\n",
    "print (int2)"
   ]
  },
  {
   "cell_type": "code",
   "execution_count": 30,
   "metadata": {
    "ExecuteTime": {
     "end_time": "2020-06-16T18:06:52.272625Z",
     "start_time": "2020-06-16T18:06:52.239056Z"
    }
   },
   "outputs": [
    {
     "name": "stdout",
     "output_type": "stream",
     "text": [
      "[3, 5, 7, 9, 11, 13, 15, 17, 19, 20]\n"
     ]
    }
   ],
   "source": [
    "my_range(1,20,2,include_start=False,include_end=True)"
   ]
  },
  {
   "cell_type": "code",
   "execution_count": 41,
   "metadata": {
    "ExecuteTime": {
     "end_time": "2020-06-16T18:14:11.362211Z",
     "start_time": "2020-06-16T18:14:11.304638Z"
    }
   },
   "outputs": [
    {
     "name": "stdout",
     "output_type": "stream",
     "text": [
      "[20, 19, 16, 13]\n",
      "[10, 8, 6, 4, 2]\n"
     ]
    }
   ],
   "source": [
    "# from    to   init\n",
    "# intervalo 1  reversed my_range(to,init,step,include_end=True, include_start=False)\n",
    "# intervalo 2 reversed my_range(from,to, include_end=True\n",
    "\n",
    "int1 = reversed(my_range(10,20,3,include_start=False, include_end=True))\n",
    "int2 = reversed(my_range(2,10,2,include_end=True))\n",
    "print (list(int1))\n",
    "print (list(int2))\n"
   ]
  },
  {
   "cell_type": "code",
   "execution_count": null,
   "metadata": {},
   "outputs": [],
   "source": []
  }
 ],
 "metadata": {
  "kernelspec": {
   "display_name": "py37astro",
   "language": "python",
   "name": "py37astro"
  },
  "language_info": {
   "codemirror_mode": {
    "name": "ipython",
    "version": 3
   },
   "file_extension": ".py",
   "mimetype": "text/x-python",
   "name": "python",
   "nbconvert_exporter": "python",
   "pygments_lexer": "ipython3",
   "version": "3.7.7"
  }
 },
 "nbformat": 4,
 "nbformat_minor": 4
}
